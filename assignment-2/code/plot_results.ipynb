{
 "cells": [
  {
   "cell_type": "code",
   "execution_count": 63,
   "metadata": {},
   "outputs": [
    {
     "name": "stderr",
     "output_type": "stream",
     "text": [
      "[nltk_data] Downloading package stopwords to\n",
      "[nltk_data]     /home/choenes/nltk_data...\n",
      "[nltk_data]   Package stopwords is already up-to-date!\n",
      "[nltk_data] Downloading package punkt to /home/choenes/nltk_data...\n",
      "[nltk_data]   Package punkt is already up-to-date!\n"
     ]
    }
   ],
   "source": [
    "import json\n",
    "import numpy as np\n",
    "import matplotlib.pyplot as plt\n",
    "from collections import defaultdict\n",
    "from read_ap import read_qrels"
   ]
  },
  {
   "cell_type": "code",
   "execution_count": 159,
   "metadata": {},
   "outputs": [],
   "source": [
    "all_queries = set(range(0,201))\n",
    "validation_queries = set(range(76,101))\n",
    "test_queries = all_queries - validation_queries\n",
    "\n",
    "vec_models = ['word2vec', 'doc2vec']\n",
    "dimension_params = [200, 300, 400, 500]\n",
    "window_params = [5, 10, 15, 20]\n",
    "vocab_params = ['10k', '25k', '50k', '100k', '200k']\n",
    "\n",
    "topic_models = ['lsi_bow', 'lsi_tfidf', 'LDA']\n",
    "topic_params = [10, 20, 50, 100, 500, 1000, 2000]"
   ]
  },
  {
   "cell_type": "code",
   "execution_count": 120,
   "metadata": {},
   "outputs": [],
   "source": [
    "def load_performance(json_path):\n",
    "    with open(json_path) as json_file:\n",
    "        data = json.load(json_file)\n",
    "    results = defaultdict(list)\n",
    "    aggregates = {}\n",
    "    for q in data:\n",
    "        results['all_map'].append(data[q][\"map\"])\n",
    "        results['all_ndcg'].append(data[q][\"ndcg\"])\n",
    "        if int(q) in validation_queries:\n",
    "            results['valid_map'].append(data[q][\"map\"])\n",
    "            results['valid_ndcg'].append(data[q][\"ndcg\"])\n",
    "        if int(q) in test_queries:\n",
    "            results['test_map'].append(data[q][\"map\"])\n",
    "            results['test_ndcg'].append(data[q][\"ndcg\"])\n",
    "    for k in results:\n",
    "        aggregates[k] = sum(results[k])/len(results[k])\n",
    "    return aggregates\n",
    "        "
   ]
  },
  {
   "cell_type": "code",
   "execution_count": 160,
   "metadata": {},
   "outputs": [
    {
     "name": "stdout",
     "output_type": "stream",
     "text": [
      "lsi_bow\n",
      "\t - all_map ---> 0.08339082632172119\n",
      "\t - all_ndcg ---> 0.4560114300809156\n",
      "\t - test_map ---> 0.08876945262442269\n",
      "\t - test_ndcg ---> 0.4628484325983793\n",
      "\t - valid_map ---> 0.05671283986032173\n",
      "\t - valid_ndcg ---> 0.42209989759429545\n",
      "lsi_tfidf\n",
      "\t - all_map ---> 0.07731543665456964\n",
      "\t - all_ndcg ---> 0.43996696393582935\n",
      "\t - test_map ---> 0.07881716321774015\n",
      "\t - test_ndcg ---> 0.44363229073154653\n",
      "\t - valid_map ---> 0.06986687290124381\n",
      "\t - valid_ndcg ---> 0.4217869430290718\n",
      "LDA\n",
      "\t - all_map ---> 0.058066775183587986\n",
      "\t - all_ndcg ---> 0.40393053385520566\n",
      "\t - test_map ---> 0.06222912735299889\n",
      "\t - test_ndcg ---> 0.41075112096533983\n",
      "\t - valid_map ---> 0.037421508423309956\n",
      "\t - valid_ndcg ---> 0.37010042178894054\n"
     ]
    }
   ],
   "source": [
    "performance_dict_default = {}\n",
    "num_topics = 500 # change this value to display result of models with other k value\n",
    "for model in topic_models:\n",
    "    json_name = \"./\"+ model + str(num_topics)+\".json\"\n",
    "    aggregates = load_performance(json_name)\n",
    "    performance_dict_default[model] = aggregates\n",
    "    print(model)\n",
    "    for k in aggregates:\n",
    "        print(f\"\\t - {k} ---> {aggregates[k]}\")"
   ]
  },
  {
   "cell_type": "code",
   "execution_count": 126,
   "metadata": {},
   "outputs": [
    {
     "name": "stdout",
     "output_type": "stream",
     "text": [
      "\t - all_map ---> 3.866283010931088e-05\n",
      "\t - all_ndcg ---> 0.007905012015803204\n",
      "\t - test_map ---> 4.270822917627276e-05\n",
      "\t - test_ndcg ---> 0.008101904183912323\n",
      "\t - valid_map ---> 1.8597650737179933e-05\n",
      "\t - valid_ndcg ---> 0.006928426861981958\n"
     ]
    }
   ],
   "source": [
    "print('tf-idf baseline')\n",
    "aggregates = load_performance('./tf-idf.json')\n",
    "performance_dict_default[model] = aggregates\n",
    "for k in aggregates:\n",
    "    print(f\"\\t - {k} ---> {aggregates[k]}\")"
   ]
  },
  {
   "cell_type": "code",
   "execution_count": 122,
   "metadata": {},
   "outputs": [],
   "source": [
    "def plot_finetuning(model, configs, x_labels):\n",
    "    fig, axs = plt.subplots(1, len(configs))\n",
    "    if len(configs) == 1:\n",
    "        axs = [axs]\n",
    "    for col, params in enumerate(configs):\n",
    "        all_y = []\n",
    "        test_y = []\n",
    "        for value in params:\n",
    "            json_name = \"./\"+ model + str(value) + \".json\"\n",
    "            aggregates = load_performance(json_name)\n",
    "            all_y.append(aggregates['all_map'])\n",
    "            test_y.append(aggregates['test_map'])\n",
    "        axs[col].plot(params, all_y, label='all queries')\n",
    "        axs[col].plot(params, test_y, label='test queries')\n",
    "        axs[col].set_ylabel('MAP', fontsize=16)\n",
    "        axs[col].set_xlabel(x_labels[col], fontsize=16)\n",
    "        axs[col].tick_params(axis='both', which='major', labelsize=13)\n",
    "        axs[col].legend()        \n",
    "        \n",
    "    fig.tight_layout()\n",
    "    plt.show()"
   ]
  },
  {
   "cell_type": "code",
   "execution_count": 100,
   "metadata": {},
   "outputs": [
    {
     "data": {
      "image/png": "[encoded data removed]",
      "text/plain": [
       "<Figure size 432x288 with 1 Axes>"
      ]
     },
     "metadata": {
      "needs_background": "light"
     },
     "output_type": "display_data"
    }
   ],
   "source": [
    "plot_finetuning('lsi_bow', [[10,50,100,500,1000,2000]], [\"Number of Topics (k)\"])"
   ]
  },
  {
   "cell_type": "code",
   "execution_count": 101,
   "metadata": {},
   "outputs": [
    {
     "data": {
      "image/png": "[encoded data removed]",
      "text/plain": [
       "<Figure size 432x288 with 1 Axes>"
      ]
     },
     "metadata": {
      "needs_background": "light"
     },
     "output_type": "display_data"
    }
   ],
   "source": [
    "plot_finetuning('lsi_tfidf', [[10,50,100,500,1000,2000]], [\"Number of Topics (k)\"])"
   ]
  },
  {
   "cell_type": "code",
   "execution_count": 157,
   "metadata": {},
   "outputs": [
    {
     "data": {
      "image/png": "[encoded data removed]",
      "text/plain": [
       "<Figure size 432x288 with 1 Axes>"
      ]
     },
     "metadata": {
      "needs_background": "light"
     },
     "output_type": "display_data"
    }
   ],
   "source": [
    "plot_finetuning('LDA', [[10,50,100,500]], [\"Number of Topics (k)\"])"
   ]
  },
  {
   "cell_type": "code",
   "execution_count": 136,
   "metadata": {},
   "outputs": [],
   "source": [
    "def get_top_flop_queries(json_path, num_top_flop=1):\n",
    "    with open(json_path) as json_file:\n",
    "        data = json.load(json_file)\n",
    "    data = [(k, v['map']) for k, v in data.items()]\n",
    "    data.sort(key= lambda t: -t[1])\n",
    "    return data[:num_top_flop], list(reversed(data[-num_top_flop:]))"
   ]
  },
  {
   "cell_type": "code",
   "execution_count": 155,
   "metadata": {},
   "outputs": [
    {
     "name": "stdout",
     "output_type": "stream",
     "text": [
      "top:  [('159', 0.2924790613098685), ('135', 0.22246631121687538), ('182', 0.07050199228381865), ('142', 0.06467418106770359), ('89', 0.060794923931915955)]\n",
      "flop:  [('170', 1.4823124892804002e-05), ('63', 3.092603370093473e-05), ('171', 3.281587159437989e-05), ('158', 3.780297062258566e-05), ('181', 4.863659723829491e-05)]\n"
     ]
    }
   ],
   "source": [
    "top, flop = get_top_flop_queries(\"doc2vec_best.json\", 5)\n",
    "print(\"top: \", top)\n",
    "print(\"flop: \", flop)"
   ]
  },
  {
   "cell_type": "code",
   "execution_count": 156,
   "metadata": {},
   "outputs": [
    {
     "name": "stdout",
     "output_type": "stream",
     "text": [
      "Top queries:\n",
      "\t -   Electric Car Development \n",
      "\n",
      "\t -   Possible Contributions of Gene Mapping to Medicine \n",
      "\n",
      "\t -   Commercial Overfishing Creates Food Fish Deficit \n",
      "\n",
      "\t -   Impact of Government Regulated Grain Farming on International Relations \n",
      "\n",
      "\t -   \"Downstream\" Investments by OPEC Member States \n",
      "\n",
      "Flop queries:\n",
      "\t -   The Consequences of Implantation of Silicone Gel Breast Devices \n",
      "\n",
      "\t -   Machine Translation \n",
      "\n",
      "\t -   Use of Mutual Funds in an Individual's Retirement Strategy \n",
      "\n",
      "\t -   Term limitations for members of the U.S. Congress \n",
      "\n",
      "\t -   Abuse of the Elderly by Family Members, and Medical and Nonmedical Personnel, and Initiatives Being Taken to Minimize This Mistreatment \n",
      "\n"
     ]
    }
   ],
   "source": [
    "qrels, queries = read_qrels()\n",
    "print(\"Top queries:\")\n",
    "for qid, Map in top:\n",
    "    print(\"\\t - \"+queries[qid])\n",
    "print(\"Flop queries:\")\n",
    "for qid, Map in flop:\n",
    "    print(\"\\t - \"+queries[qid])"
   ]
  },
  {
   "cell_type": "code",
   "execution_count": 97,
   "metadata": {},
   "outputs": [],
   "source": [
    "def map_variance_over_models(json_files, top_num=5):\n",
    "    query_variances = {}\n",
    "    data = {}\n",
    "    map_per_query = defaultdict(list)\n",
    "    for i, file in enumerate(json_files):\n",
    "        with open(file) as json_file:\n",
    "            data[i] = json.load(json_file)\n",
    "    for query in data[0]:\n",
    "        for model in range(len(json_files)):\n",
    "            map_per_query[query].append(data[model][query]['map'])\n",
    "    for k in map_per_query:\n",
    "        query_variances[k] = np.var(map_per_query[k])\n",
    "    query_variances = [(k, v) for k, v in query_variances.items()]\n",
    "    query_variances.sort(key= lambda t: -t[1])\n",
    "    return query_variances[:top_num]"
   ]
  },
  {
   "cell_type": "code",
   "execution_count": 168,
   "metadata": {},
   "outputs": [
    {
     "name": "stdout",
     "output_type": "stream",
     "text": [
      "[('70', 0.07891609682736177), ('170', 0.07683232500798233), ('163', 0.07531983098970388), ('154', 0.054296903987087065), ('173', 0.052207602106166505)]\n"
     ]
    }
   ],
   "source": [
    "top_var = map_variance_over_models([\"lsi_bow2000.json\", \"lsi_tfidf2000.json\", \"LDA500.json\", \"w2v.json\", \"doc2vec_best.json\"], top_num=5)\n",
    "print(top_var)"
   ]
  },
  {
   "cell_type": "code",
   "execution_count": 169,
   "metadata": {},
   "outputs": [
    {
     "name": "stdout",
     "output_type": "stream",
     "text": [
      "Highest variance:\n",
      "\t -   Surrogate Motherhood \n",
      "\n",
      "\t -   The Consequences of Implantation of Silicone Gel Breast Devices \n",
      "\n",
      "\t -   Vietnam Veterans and Agent Orange \n",
      "\n",
      "\t -   Oil Spills \n",
      "\n",
      "\t -   Smoking Bans \n",
      "\n"
     ]
    }
   ],
   "source": [
    "print(\"Highest variance:\")\n",
    "for qid, Map in top_var:\n",
    "    print(\"\\t - \"+queries[qid])"
   ]
  },
  {
   "cell_type": "code",
   "execution_count": null,
   "metadata": {},
   "outputs": [],
   "source": []
  }
 ],
 "metadata": {
  "kernelspec": {
   "display_name": "Python 3",
   "language": "python",
   "name": "python3"
  },
  "language_info": {
   "codemirror_mode": {
    "name": "ipython",
    "version": 3
   },
   "file_extension": ".py",
   "mimetype": "text/x-python",
   "name": "python",
   "nbconvert_exporter": "python",
   "pygments_lexer": "ipython3",
   "version": "3.7.6"
  }
 },
 "nbformat": 4,
 "nbformat_minor": 4
}
