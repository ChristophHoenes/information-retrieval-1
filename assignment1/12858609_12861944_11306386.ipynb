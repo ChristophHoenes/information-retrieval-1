{
 "cells": [
  {
   "cell_type": "markdown",
   "metadata": {},
   "source": [
    "# Homework 1 (Total Points: 175)\n",
    "\n",
    "\n",
    "\n",
    "Learning Goals:\n",
    "- Learn how to load a dataset and process it.\n",
    "- Learn how to implement several IR methods (TFIDF, BM25, QL) and understand their weaknesses & strengths.\n",
    "- Learn how to evaluate IR methods\n",
    "\n",
    "\n",
    "**NOTE 1**: Only the code (`TODO: Implement this!` denotes these sections) is graded. The 'theory' questions in this assignment serve as a preparation for the exam and to facilitate a deeper understanding of the course content. These questions (denoted by `TODO: Answer this!`) have no points assigned to them, but **need** to be filled out before submission.  \n",
    "\n",
    "**NOTE 2**: You can use the `nltk`, `numpy` and `matplotlib` libraries here. Other libraries, e.g., `gensim` or `scikit-learn`, may not be used. \n",
    "\n",
    "**NOTE 3**: The notebook you submit has to have the student ids, seperated by underscores (E.g., `12341234_12341234_12341234.ipynb`). \n",
    "\n",
    "**NOTE 4**: Make sure to check that your notebook runs before submission. A quick way to do this is to restart the kernel and run all the cells.  \n",
    "\n",
    "---\n",
    "Additional Resources: \n",
    "-  Sections 2.3, 4.1, 4.2, 4.3, 5.3, 5.6, 5.7, 6.2, 7, 8 of [Search Engines: Information Retrieval in Practice](https://ciir.cs.umass.edu/downloads/SEIRiP.pdf)\n"
   ]
  },
  {
   "cell_type": "code",
   "execution_count": 1,
   "metadata": {},
   "outputs": [
    {
     "name": "stderr",
     "output_type": "stream",
     "text": [
      "/Users/Yke/Desktop/AI/Courses/IR1/venv/lib/python3.6/site-packages/IPython/html.py:14: ShimWarning: The `IPython.html` package has been deprecated since IPython 4.0. You should import from `notebook` instead. `IPython.html.widgets` has moved to `ipywidgets`.\n",
      "  \"`IPython.html.widgets` has moved to `ipywidgets`.\", ShimWarning)\n"
     ]
    }
   ],
   "source": [
    "# imports \n",
    "# TODO: Ensure that no additional library is imported in the notebook. \n",
    "# TODO: Only the standard library and the following libraries are allowed:\n",
    "\n",
    "import os\n",
    "import zipfile\n",
    "from functools import partial\n",
    "\n",
    "import nltk\n",
    "import requests\n",
    "import numpy as np\n",
    "from tqdm import tqdm\n",
    "\n",
    "import matplotlib.pyplot as plt\n",
    "\n",
    "from ipywidgets import widgets\n",
    "from IPython.display import display, HTML\n",
    "from IPython.html import widgets\n",
    "from collections import namedtuple\n",
    "\n",
    "%matplotlib inline"
   ]
  },
  {
   "cell_type": "markdown",
   "metadata": {},
   "source": [
    "## Section 1: Text Processing (20 points)\n",
    "\n",
    "In this section, we will load the dataset and learn how to clean up the data to make it usable for an IR system. \n",
    "\n",
    "We are using the [CACM dataset](http://ir.dcs.gla.ac.uk/resources/test_collections/cacm/), which is a small, classic IR dataset, composed of a collection of titles and abstracts from the journal CACM. It comes with relevance judgements for queries, so we can evaluate our IR system. \n",
    "\n",
    "The following cell downloads the dataset and unzips it to a local directory"
   ]
  },
  {
   "cell_type": "code",
   "execution_count": 2,
   "metadata": {},
   "outputs": [],
   "source": [
    "def download_dataset(folder_path = \"./datasets/\"):\n",
    "    \n",
    "    os.makedirs(folder_path, exist_ok=True)\n",
    "    \n",
    "    file_location = os.path.join(folder_path, \"cacm.zip\")\n",
    "    \n",
    "    # download file if it doesn't exist\n",
    "    if not os.path.exists(file_location):\n",
    "        \n",
    "        url = \"https://surfdrive.surf.nl/files/index.php/s/M0FGJpX2p8wDwxR/download\"\n",
    "\n",
    "        with open(file_location, \"wb\") as handle:\n",
    "            print(f\"Downloading file from {url} to {file_location}\")\n",
    "            response = requests.get(url, stream=True)\n",
    "            for data in tqdm(response.iter_content()):\n",
    "                handle.write(data)\n",
    "            print(\"Finished downloading file\")\n",
    "    \n",
    "    if not os.path.exists(os.path.join(folder_path, \"train.txt\")):\n",
    "        \n",
    "        # unzip file\n",
    "        with zipfile.ZipFile(file_location, 'r') as zip_ref:\n",
    "            zip_ref.extractall(folder_path)\n",
    "        \n",
    "download_dataset()"
   ]
  },
  {
   "cell_type": "markdown",
   "metadata": {},
   "source": [
    "You can see a brief description of each file in the dataset by looking at the README file"
   ]
  },
  {
   "cell_type": "code",
   "execution_count": 3,
   "metadata": {},
   "outputs": [
    {
     "name": "stdout",
     "output_type": "stream",
     "text": [
      "Files in this directory with sizes:\r\n",
      "          0 Jun 19 21:01 README\r\n",
      "\r\n",
      "    2187734 Jun 19 20:55 cacm.all              text of documents\r\n",
      "        626 Jun 19 20:58 cite.info             key to citation info\r\n",
      "                                                (the X sections in cacm.all)\r\n",
      "       2668 Jun 19 20:55 common_words           stop words used by smart\r\n",
      "       2194 Jun 19 20:55 make_coll*             shell script to make collection\r\n",
      "       1557 Jun 19 20:55 make_coll_term*        ditto (both useless without\r\n",
      "                                                smart system)\r\n",
      "       9948 Jun 19 20:55 qrels.text             relation giving\r\n",
      "                                                    qid did 0 0\r\n",
      "                                                to indicate dument did is\r\n",
      "                                                relevant to query qid\r\n",
      "      13689 Jun 19 20:55 query.text             Original text of the query\r\n"
     ]
    }
   ],
   "source": [
    "##### Read the README file \n",
    "!cat ./datasets/README\n",
    "#####"
   ]
  },
  {
   "cell_type": "markdown",
   "metadata": {},
   "source": [
    "----\n",
    "We are interested in 4 files:\n",
    "- `cacm.all` : Contains the text for all documents. Note that some documents do not have abstracts available. \n",
    "- `query.text` : The text of all queries\n",
    "- `qrels.text` : The relevance judgements\n",
    "- `common_words` : A list of common words. This may be used as a collection of stopwords"
   ]
  },
  {
   "cell_type": "code",
   "execution_count": 4,
   "metadata": {},
   "outputs": [
    {
     "name": "stdout",
     "output_type": "stream",
     "text": [
      ".I 1\r\n",
      ".T\r\n",
      "Preliminary Report-International Algebraic Language\r\n",
      ".B\r\n",
      "CACM December, 1958\r\n",
      ".A\r\n",
      "Perlis, A. J.\r\n",
      "Samelson,K.\r\n",
      ".N\r\n",
      "CA581203 JB March 22, 1978  8:28 PM\r\n",
      ".X\r\n",
      "100\t5\t1\r\n",
      "123\t5\t1\r\n",
      "164\t5\t1\r\n",
      "1\t5\t1\r\n",
      "1\t5\t1\r\n",
      "1\t5\t1\r\n",
      "205\t5\t1\r\n",
      "210\t5\t1\r\n",
      "214\t5\t1\r\n",
      "1982\t5\t1\r\n",
      "398\t5\t1\r\n",
      "642\t5\t1\r\n",
      "669\t5\t1\r\n",
      "1\t6\t1\r\n",
      "1\t6\t1\r\n",
      "1\t6\t1\r\n",
      "1\t6\t1\r\n",
      "1\t6\t1\r\n",
      "1\t6\t1\r\n",
      "1\t6\t1\r\n",
      "1\t6\t1\r\n",
      "1\t6\t1\r\n",
      "1\t6\t1\r\n",
      "165\t6\t1\r\n",
      "196\t6\t1\r\n",
      "196\t6\t1\r\n",
      "1273\t6\t1\r\n",
      "1883\t6\t1\r\n",
      "324\t6\t1\r\n",
      "43\t6\t1\r\n",
      "53\t6\t1\r\n",
      "91\t6\t1\r\n",
      "410\t6\t1\r\n",
      "3184\t6\t1\r\n"
     ]
    }
   ],
   "source": [
    "##### The first 45 lines of the CACM dataset forms the first record\n",
    "# We are interested only in 3 fields. \n",
    "# 1. the '.I' field, which is the document id\n",
    "# 2. the '.T' field (the title) and\n",
    "# 3. the '.W' field (the abstract, which may be absent)\n",
    "!head -45 ./datasets/cacm.all\n",
    "#####"
   ]
  },
  {
   "cell_type": "markdown",
   "metadata": {},
   "source": [
    "---\n",
    "\n",
    "Now, write a function to read in the `cacm.all` file. Note that each document has a variable number of lines. The `.I` field denotes a new document"
   ]
  },
  {
   "cell_type": "code",
   "execution_count": 5,
   "metadata": {},
   "outputs": [],
   "source": [
    "# TODO: Implement this! (4 points)\n",
    "def read_cacm_docs(root_folder = \"./datasets/\"):\n",
    "    \"\"\"\n",
    "        Reads in the CACM documents. The dataset is assumed to be in the folder \"./datasets/cacm\" be default\n",
    "        Returns: A list of 2-tuples: (doc_id, document), where 'document' is a single string created by \n",
    "            appending the title and abstract (seperated by a \"\\n\"). \n",
    "            In case the record doesn't have an abstract, the document is composed only by the title\n",
    "    \"\"\"\n",
    "    file_path = os.path.join(root_folder, 'cacm.all')\n",
    "    with open(file_path, 'r') as f:\n",
    "        docs = []\n",
    "        title = ''\n",
    "        abstract = ''\n",
    "        in_title = False\n",
    "        in_abstract = False\n",
    "        for line in f:\n",
    "            if line.startswith('.I '):\n",
    "                doc_id = line.strip('\\n').split('.I ')[1]\n",
    "            if in_title and not line.startswith('.'):\n",
    "                title += line\n",
    "            if in_abstract and not line.startswith('.'):\n",
    "                abstract += line\n",
    "            if line.startswith('.T'):\n",
    "                in_title = True\n",
    "            if line.startswith('.W'):\n",
    "                in_title = False\n",
    "                in_abstract = True\n",
    "            if (in_title or in_abstract) and (line.startswith('.B') or line.startswith('.A')):\n",
    "                in_title = False\n",
    "                in_abstract = False\n",
    "                docs.append((int(doc_id),title+abstract))\n",
    "                title = ''\n",
    "                abstract = ''\n",
    "    return docs\n",
    "\n",
    "docs = read_cacm_docs()"
   ]
  },
  {
   "cell_type": "code",
   "execution_count": 6,
   "metadata": {},
   "outputs": [],
   "source": [
    "##### \n",
    "assert len(docs) == 3204, \"There should be exactly 3024 documents\"\n",
    "##### "
   ]
  },
  {
   "cell_type": "markdown",
   "metadata": {},
   "source": [
    "---\n",
    "\n",
    "Next, let us read the queries. They are formatted similarly: "
   ]
  },
  {
   "cell_type": "code",
   "execution_count": 7,
   "metadata": {},
   "outputs": [
    {
     "name": "stdout",
     "output_type": "stream",
     "text": [
      ".I 1\r\n",
      ".W\r\n",
      " What articles exist which deal with TSS (Time Sharing System), an\r\n",
      "operating system for IBM computers?\r\n",
      ".N\r\n",
      " 1. Richard Alexander, Comp Serv, Langmuir Lab (TSS)\r\n",
      " \r\n",
      ".I 2\r\n",
      ".W\r\n",
      " I am interested in articles written either by Prieve or Udo Pooch\r\n",
      ".A\r\n",
      "Prieve, B.\r\n",
      "Pooch, U.\r\n",
      ".N\r\n",
      " 2. Richard Alexander, Comp Serv, Langmuir Lab (author = Pooch or Prieve)\r\n"
     ]
    }
   ],
   "source": [
    "##### The first 15 lines of 'query.text' has 2 queries\n",
    "# We are interested only in 2 fields. \n",
    "# 1. the '.I' - the query id\n",
    "# 2. the '.W' - the query\n",
    "!head -15 ./datasets/query.text\n",
    "#####"
   ]
  },
  {
   "cell_type": "markdown",
   "metadata": {},
   "source": [
    "---\n",
    "\n",
    "Now, write a function to read in this file:"
   ]
  },
  {
   "cell_type": "code",
   "execution_count": 8,
   "metadata": {},
   "outputs": [],
   "source": [
    "# TODO: Implement this! (3 points)\n",
    "def read_queries(root_folder = \"./datasets/\"):\n",
    "    \"\"\"\n",
    "        Reads in the CACM queries. The dataset is assumed to be in the folder \"./datasets/\" be default\n",
    "        Returns: A list of 2-tuples: (query_id, query)\n",
    "    \"\"\"\n",
    "    file_path = os.path.join(root_folder, 'query.text')\n",
    "    with open(file_path, 'r') as f:\n",
    "        queries = []\n",
    "        query = ''\n",
    "        in_query = False\n",
    "        for line in f:\n",
    "            if line.startswith('.I '):\n",
    "                query_id = line.strip('\\n').split('.I ')[1]\n",
    "            if line.startswith('.A'):\n",
    "                in_query = False\n",
    "            if line.startswith('.N'):\n",
    "                in_query = False\n",
    "                queries.append((int(query_id),query))\n",
    "                query = ''\n",
    "            if in_query:\n",
    "                query = query + line\n",
    "            if line.startswith('.W'):\n",
    "                in_query = True\n",
    "    return queries\n",
    "    \n",
    "queries = read_queries()"
   ]
  },
  {
   "cell_type": "code",
   "execution_count": 9,
   "metadata": {},
   "outputs": [],
   "source": [
    "##### \n",
    "assert len(queries) == 64 and all([q[1] is not None for q in queries]), \"There should be exactly 64 queries\"\n",
    "##### "
   ]
  },
  {
   "cell_type": "markdown",
   "metadata": {},
   "source": [
    "---\n",
    "\n",
    "Read in the stop words:"
   ]
  },
  {
   "cell_type": "code",
   "execution_count": 10,
   "metadata": {},
   "outputs": [
    {
     "name": "stdout",
     "output_type": "stream",
     "text": [
      "a\r\n",
      "about\r\n",
      "above\r\n",
      "accordingly\r\n",
      "across\r\n",
      "after\r\n",
      "afterwards\r\n",
      "again\r\n",
      "against\r\n",
      "all\r\n"
     ]
    }
   ],
   "source": [
    "!head ./datasets/common_words"
   ]
  },
  {
   "cell_type": "code",
   "execution_count": 11,
   "metadata": {},
   "outputs": [],
   "source": [
    "# TODO: Implement this! (3 points)\n",
    "def load_stopwords(root_folder = \"./datasets\"):\n",
    "    \"\"\"\n",
    "    Load the stopwords\n",
    "    Output: A set of stopwords\n",
    "    \"\"\"\n",
    "\n",
    "    stopwords = set()\n",
    "    file_path = os.path.join(root_folder, 'common_words')\n",
    "    with open(file_path, 'r') as f:\n",
    "        for line in f:\n",
    "            stopwords.add(line.strip('\\n'))\n",
    "    return stopwords\n",
    "\n",
    "stopwords = load_stopwords()\n",
    "assert len(stopwords) == 428"
   ]
  },
  {
   "cell_type": "markdown",
   "metadata": {},
   "source": [
    "--- \n",
    "\n",
    "We can now write some basic text processing functions. A first step is to tokenize the text. You may use any tokenizer available in the `nltk` library:"
   ]
  },
  {
   "cell_type": "code",
   "execution_count": 12,
   "metadata": {},
   "outputs": [],
   "source": [
    "# TODO: Implement this! (5 points)\n",
    "def tokenize(text):\n",
    "    \"\"\"\n",
    "        Tokenize the text. \n",
    "        Input: text - a string\n",
    "        Output: a list of tokens\n",
    "    \"\"\"\n",
    "    return nltk.tokenize.word_tokenize(text)"
   ]
  },
  {
   "cell_type": "code",
   "execution_count": 13,
   "metadata": {},
   "outputs": [
    {
     "name": "stdout",
     "output_type": "stream",
     "text": [
      "['the', 'quick', 'brown', 'fox', 'jumps', 'over', 'the', 'lazy', 'dog']\n"
     ]
    }
   ],
   "source": [
    "#####\n",
    "text = \"the quick brown fox jumps over the lazy dog\"\n",
    "tokens = tokenize(text)\n",
    "print(tokens)\n",
    "#####"
   ]
  },
  {
   "cell_type": "markdown",
   "metadata": {},
   "source": [
    "---\n",
    "\n",
    "*Answer the following questions*: \n",
    "- Why is stemming necessary, in particular for IR?\n",
    "    - *TODO: Answer this!* <br> \n",
    "    Depending on the language words can come in various forms (pre- and suffixes), while still carrying similar meanings (e.g. run, runs, ran, etc.). To do information retrieval we need to match similar information. Stemming removes most morphological information and keeps only the stem of a word, bringing words back to a more general form. This way, words can be more easily matched, and more relevant documents can be found, with less computations. <br><br>\n",
    "    \n",
    "- Is there any setting (domain, scenario, etc) in which stemming can hurt performance? Illustrate with an example\n",
    "    - *TODO: Answer this!* <br>\n",
    "    In some cases stemming leads to ambiguity (e.g. organization -> organ) and therefore irrelevant documents could be mistakenly selected. Moreover, stemming can hurt performance for high-accuracy domains, such as the chemical domain. When looking up article about a certain protein, stemming the protein might lead to returning articles that are about a similar protein but not that exact one."
   ]
  },
  {
   "cell_type": "markdown",
   "metadata": {},
   "source": [
    "Write a function to stem tokens. Again, you can use the `nltk` library for this"
   ]
  },
  {
   "cell_type": "code",
   "execution_count": 14,
   "metadata": {},
   "outputs": [],
   "source": [
    "# TODO: Implement this! (5 points)\n",
    "def stem_token(token):\n",
    "    \"\"\"\n",
    "        Stem the given token, using any stemmer available from the nltk library\n",
    "        Input: a single token\n",
    "        Output: the stem of the token\n",
    "    \"\"\"\n",
    "    stemmer = nltk.stem.porter.PorterStemmer()\n",
    "    return stemmer.stem(token)"
   ]
  },
  {
   "cell_type": "code",
   "execution_count": 15,
   "metadata": {},
   "outputs": [
    {
     "name": "stdout",
     "output_type": "stream",
     "text": [
      "['the', 'quick', 'brown', 'fox', 'jump', 'over', 'the', 'lazi', 'dog']\n",
      "['caress', 'fli', 'die', 'mule', 'deni', 'die', 'agre', 'own', 'humbl', 'size', 'meet', 'state', 'siez', 'item', 'sensat', 'tradit', 'refer', 'colon', 'plot', 'organ', 'organ']\n"
     ]
    }
   ],
   "source": [
    "####\n",
    "print([stem_token(t) for t in tokens])\n",
    "tokens_ = [\n",
    "    'caresses', 'flies', 'dies', 'mules', 'denied',\n",
    "    'died', 'agreed', 'owned', 'humbled', 'sized',\n",
    "    'meeting', 'stating', 'siezing', 'itemization',\n",
    "    'sensational', 'traditional', 'reference', 'colonizer',\n",
    "    'plotted', \"organization\", \"organ\"]\n",
    "print([stem_token(t) for t in tokens_])\n",
    "####"
   ]
  },
  {
   "cell_type": "markdown",
   "metadata": {},
   "source": [
    "---\n",
    "\n",
    "*Answer the following questions*: \n",
    "- Another processing step (not done here) is to use n-grams. Illustrate why you would want to use n-grams in IR with an example.  \n",
    "    - *TODO: Answer this!* <br>\n",
    "N-grams can be used to bring order into the search. Instead of only looking at the presence of the query words individually in a document, one can use n-grams to match sequences. Similarly, n-grams can capture context information. For example if you are only interested in a specific kind of housing e.g. student housing, a bigram can better capture what documents might be relevant for you by not returning documents that only contain the word housing in a different context.\n",
    "<br><br>\n",
    "\n",
    "- Usage of n-grams exacerbates some problems ex. in bi-gram language models. What is this problem? Suggest one solution\n",
    "    - *TODO: Answer this!* <br>\n",
    "    One problem is that n-gram models increase the vocabulary size a lot. A larger vocabulary requires more computation, for example to build an inverted index, which can become a problem. Also, in general n-grams are highly sparse (the higher n, the sparser). This last problem could be addressed by applying \"smoothing\", i.e. distributing probability over rare/sparse occurences.\n",
    "    "
   ]
  },
  {
   "cell_type": "markdown",
   "metadata": {},
   "source": [
    "--- \n",
    "\n",
    "The following function puts it all together. Given a string, it tokenizes it, and processes it according to the flags that you set."
   ]
  },
  {
   "cell_type": "code",
   "execution_count": 16,
   "metadata": {},
   "outputs": [],
   "source": [
    "#### Putting it all together\n",
    "def process_text(text, stem=False, remove_stopwords=False, lowercase_text=False):\n",
    "    \n",
    "    tokens = []\n",
    "    for token in tokenize(text):\n",
    "        if remove_stopwords and token.lower() in stopwords:\n",
    "            continue\n",
    "        if stem:\n",
    "            token = stem_token(token)\n",
    "        if lowercase_text:\n",
    "            token = token.lower()\n",
    "        tokens.append(token)\n",
    "\n",
    "    return tokens\n",
    "#### "
   ]
  },
  {
   "cell_type": "markdown",
   "metadata": {},
   "source": [
    "Let's create two sets of pre-processed documents"
   ]
  },
  {
   "cell_type": "code",
   "execution_count": 17,
   "metadata": {},
   "outputs": [],
   "source": [
    "# In this configuration:\n",
    "# Don't preprocess the text, except to tokenize \n",
    "config_1 = {\n",
    "  \"stem\": False,\n",
    "  \"remove_stopwords\" : False,\n",
    "  \"lowercase_text\": True\n",
    "} \n",
    "\n",
    "\n",
    "# In this configuration:\n",
    "# Preprocess the text: stem and remove stopwords\n",
    "config_2 = {\n",
    "  \"stem\": True,\n",
    "  \"remove_stopwords\" : True,\n",
    "  \"lowercase_text\": True, \n",
    "} \n"
   ]
  },
  {
   "cell_type": "markdown",
   "metadata": {},
   "source": [
    "We can now process the documents and queries according to the configuration specified above"
   ]
  },
  {
   "cell_type": "code",
   "execution_count": 18,
   "metadata": {},
   "outputs": [],
   "source": [
    "####\n",
    "doc_repr_1 = []\n",
    "doc_repr_2 = []\n",
    "for (doc_id, document) in docs:\n",
    "    doc_repr_1.append((doc_id, process_text(document, **config_1)))\n",
    "    doc_repr_2.append((doc_id, process_text(document, **config_2)))\n",
    "\n",
    "####"
   ]
  },
  {
   "cell_type": "markdown",
   "metadata": {},
   "source": [
    "\n",
    "--- \n",
    "\n",
    "## Section 2: Indexing (10 points)\n",
    "\n",
    "\n",
    "A retrieval function usually takes in a query document pair, and scores a query against a document.  Our document set is quite small - just a few thousand documents. However, consider a web-scale dataset with a few million documents. In such a scenario, it would become infeasible to score every query and document pair. In such a case, we can build an inverted index. From Wikipedia:\n",
    "\n",
    "> ... , an inverted index (also referred to as a postings file or inverted file) is a database index storing a mapping from content, such as words or numbers, to its locations in a table, .... The purpose of an inverted index is to allow fast full-text searches, at a cost of increased processing when a document is added to the database. ...\n",
    "\n",
    "\n",
    "Consider a simple inverted index, which maps from word to document. This can improve the performance of a retrieval system significantly. In this assignment, we consider a *simple* inverted index, which maps a word to a set of documents. In practice, however, more complex indices might be used.  \n",
    "\n",
    "\n",
    "### Building an index"
   ]
  },
  {
   "cell_type": "markdown",
   "metadata": {},
   "source": [
    "---\n",
    "\n",
    "In this assignment we will be using an index created in memory, since our dataset is tiny. To get started, build a simple index that maps simply counts the number of tokens present in a document. This index  is built using a python dictionary.\n",
    "\n",
    "*Answer the following questions*:\n",
    "- What is the time complexity of retrieving a list of documents from a python `dict` object? \n",
    "    - *TODO: Answer this!* <br> \n",
    "   To get an item (such as a list) from a python dict, the time complexity for the average case is $\\mathcal{O}(1)$.\n",
    "    <br><br>\n",
    "- Consider the case with a 10 million documents. What is the time complexity of retrieval with an inverted index (assuming you can fit the entire index in memory)? (Hint: Consider length of a query $|q|$) \n",
    "    - *TODO: Answer this!* <br>\n",
    "    To retrieve a document we need to look up each query word ==> $\\mathcal{O}(|q|)$. <br><br>\n",
    "- For a large enough collection, we cannot store an index in memory. How is this tackled in practice (briefly explain)? Comment on the time complexity. \n",
    "    - *TODO: Answer this!* <br>\n",
    "    One can either do two-pass indexing or one-pass with merging. The first goes through the documents once and gathers statistics about the entire document corpus. Then, a template is created and filled in in the second pass. The second cuts the index off regularly and saves that part to disc. In the end all index parts are merged. <br><br>\n",
    "- Mention a use-case in which a simple index (from word -> doc_id) might not suffice anymore. How would you modify the index to suit this use-case (if you can!)  \n",
    "    - *TODO: Answer this!* <br>\n",
    "    It would not suffice anymore when the frequency of a word is an important feature to a document, rather than only its (binary) occurance. That is the case if a word occurs almost in all documents, but in some cases more times than others. In that case we would modify the the index such that <br>word -> (doc_id, term_frequency).\n",
    "    \n",
    "Now, implement a function to build an index:"
   ]
  },
  {
   "cell_type": "code",
   "execution_count": 19,
   "metadata": {},
   "outputs": [],
   "source": [
    "# TODO: Implement this! 10 points\n",
    "\n",
    "from collections import defaultdict, Counter\n",
    "\n",
    "def build_tf_index(documents):\n",
    "    \"\"\"\n",
    "    Build an inverted index (with counts). The output is a dictionary which takes in a token\n",
    "    and returns a list of (doc_id, count) where 'count' is the count of the 'token' in 'doc_id'\n",
    "    Input: a list of documents - (doc_id, tokens) \n",
    "    Output: An inverted index. [token] -> [(doc_id, token_count)]\n",
    "    \"\"\"\n",
    "    index = defaultdict(set)\n",
    "    for doc_id, text in documents:\n",
    "        word_counter = Counter(text)\n",
    "        for word, token_count in word_counter.items():\n",
    "            index[word].add((doc_id, token_count))\n",
    "    return index\n",
    " \n",
    "# Create the 2 indices\n",
    "tf_index_1 = build_tf_index(doc_repr_1)\n",
    "tf_index_2 = build_tf_index(doc_repr_2)\n",
    "\n",
    "# This function returns the correct index \n",
    "def get_index(index_set):\n",
    "    assert index_set in {1, 2}\n",
    "    return {\n",
    "        1: tf_index_1,\n",
    "        2: tf_index_2\n",
    "    }[index_set]\n",
    "\n",
    "# This function correctly pre-processes the text given the index set\n",
    "def preprocess_query(text, index_set):\n",
    "    assert index_set in {1, 2}\n",
    "    if index_set == 1:\n",
    "        return process_text(text, **config_1)\n",
    "    elif index_set == 2:\n",
    "        return process_text(text, **config_2)\n",
    "    "
   ]
  },
  {
   "cell_type": "markdown",
   "metadata": {},
   "source": [
    "--- \n",
    "\n",
    "## Section 3: Retrieval  (80 points)\n",
    "\n",
    "Now that we have cleaned and processed our dataset, we can start building simple IR systems. \n",
    "\n",
    "For now, we consider *simple* IR systems, which involve computing scores from the tokens present in the document/query. More advanced methods are covered in later assignments.\n",
    "\n",
    "We will implement the following methods in this section:\n",
    "- TF-IDF\n",
    "- BM25\n",
    "- Query Likelihood Models\n",
    "\n",
    "--- \n",
    "\n",
    "### Ranking functions\n",
    "\n",
    "\n",
    "Probably the simplest IR model is the Bag of Words (BOW) model. Implement a function that scores a query against a document using this model.   \n",
    "\n",
    "Note that you can use either the count of the token or 'binarize' it i.e set the value equal to 1 if the token appears.   \n"
   ]
  },
  {
   "cell_type": "markdown",
   "metadata": {},
   "source": [
    "**Note:** Make sure you use the `get_index` function to retrieve the correct index, and call `preprocess_query` with the correct index!"
   ]
  },
  {
   "cell_type": "code",
   "execution_count": 20,
   "metadata": {},
   "outputs": [],
   "source": [
    "# TODO: Implement this! 10 points\n",
    "\n",
    "def bow_search(query, index_set):\n",
    "    \"\"\"\n",
    "        Perform a search over all documents with the given query. \n",
    "        Note #1: You have to use the `get_index` function created in the previous cells\n",
    "        Note #2: You can binarize the counts if you wish to\n",
    "        Input: \n",
    "            query - a (unprocessed) query\n",
    "            index_set - the index to use\n",
    "        Output: a list of (document_id, score), sorted in descending relevance to the given query \n",
    "    \"\"\"\n",
    "    binarize = False\n",
    "    index = get_index(index_set)\n",
    "    query = preprocess_query(query, index_set)\n",
    "    scores = defaultdict(lambda: 0.)\n",
    "    \n",
    "    for token in query:\n",
    "        search_results = index[token]\n",
    "        for document_id, score in search_results:\n",
    "            scores[document_id] += 1. if binarize else float(score)\n",
    "            \n",
    "    ranking = list(scores.items())\n",
    "    ranking.sort(key = lambda tup: tup[1], reverse=True)\n",
    "    return ranking"
   ]
  },
  {
   "cell_type": "markdown",
   "metadata": {},
   "source": [
    "*Answer the following questions*: \n",
    "- The BOW model is might not be a good choice for use in IR. Why? \n",
    "    - *TODO: Answer this!* <br>\n",
    "    Each word is weighted the same in the BOW model. It does not take into account how often or rarely a word appears in all of the documents, even though some words are more informative than others (e.g. think about the small frequency of \"junction\" and large frequency of \"report\")."
   ]
  },
  {
   "cell_type": "code",
   "execution_count": 21,
   "metadata": {},
   "outputs": [
    {
     "name": "stdout",
     "output_type": "stream",
     "text": [
      "BOW Results:\n",
      "Rank 0(6.0): Rejuvenating Experimental Computer Science\\nThis r...\n",
      "Rank 1(5.0): An Information Algebra - Phase I Report-Language\\n...\n",
      "Rank 2(3.0): ALGOL 60 Confidential\\nThe ALGOL 60 Report,* when ...\n",
      "Rank 3(2.0): Curriculum Recommendations for Graduate Profession...\n",
      "Rank 4(2.0): Control Procedures for Data Communication-An ASA P...\n"
     ]
    }
   ],
   "source": [
    "####\n",
    "docs_by_id = dict(docs)\n",
    "def print_results(docs, len_limit=50):    \n",
    "    for i, (doc_id, score) in enumerate(docs):\n",
    "        doc_content = docs_by_id[doc_id].strip().replace(\"\\n\", \"\\\\n\")[:len_limit] + \"...\"\n",
    "        print(f\"Rank {i}({score:.2}): {doc_content}\")\n",
    "\n",
    "test_bow = bow_search(\"report\", index_set=1)[:5]\n",
    "print(f\"BOW Results:\")\n",
    "print_results(test_bow)\n",
    "####"
   ]
  },
  {
   "cell_type": "markdown",
   "metadata": {},
   "source": [
    "Before we implement the tf-idf scoring functions, let's first write a function to compute the document frequencies of all words.  "
   ]
  },
  {
   "cell_type": "code",
   "execution_count": 22,
   "metadata": {},
   "outputs": [],
   "source": [
    "# TODO: Implement this! (5 points)\n",
    "def compute_df(documents):\n",
    "    \"\"\"\n",
    "        Compute the document frequency of all terms in the vocabulary\n",
    "        Input: A list of documents\n",
    "        Output: A dictionary with {token: document frequency)\n",
    "    \"\"\"\n",
    "    doc_freqs = defaultdict(lambda: 0.)\n",
    "    for doc in documents:\n",
    "        unique_tokens = set(doc)\n",
    "        for token in unique_tokens:\n",
    "            doc_freqs[token] += 1\n",
    "    return doc_freqs\n",
    "\n",
    "# get the document frequencies of each document\n",
    "df_1 = compute_df([d[1] for d in doc_repr_1])\n",
    "df_2 = compute_df([d[1] for d in doc_repr_2])\n",
    "\n",
    "def get_df(index_set):\n",
    "    assert index_set in {1, 2}\n",
    "    return {\n",
    "        1: df_1,\n",
    "        2: df_2\n",
    "    }[index_set]\n",
    "\n",
    "#helper function\n",
    "def get_docs(index_set):\n",
    "    return {\n",
    "        1: doc_repr_1,\n",
    "        2: doc_repr_2\n",
    "    }[index_set]"
   ]
  },
  {
   "cell_type": "markdown",
   "metadata": {},
   "source": [
    "Next, implement a function that computes a tf-idf score given a query.      "
   ]
  },
  {
   "cell_type": "code",
   "execution_count": 23,
   "metadata": {},
   "outputs": [],
   "source": [
    "# TODO: Implement this! 10 points\n",
    "def tfidf_search(query, index_set):\n",
    "    \"\"\"\n",
    "        Perform a search over all documents with the given query using tf-idf. \n",
    "        Note #1: You have to use the `get_index` (and the `get_df`) function created in the previous cells\n",
    "        Input: \n",
    "            query - a (unprocessed) query\n",
    "            index_set - the index to use\n",
    "        Output: a list of (document_id, score), sorted in descending relevance to the given query \n",
    "    \"\"\"\n",
    "    query = preprocess_query(query, index_set)\n",
    "    index = get_index(index_set)\n",
    "    df = get_df(index_set)\n",
    "    \n",
    "    scores = defaultdict(lambda: 0.)\n",
    "    all_docs = get_docs(index_set)\n",
    "    for token in query:\n",
    "        search_results = index[token]\n",
    "        idf = np.log(len(all_docs)/(df[token]+1e-9))\n",
    "        for document_id, tf in search_results:\n",
    "            if tf > 0:\n",
    "                tf_td = 1 + np.log(tf) #from the slides\n",
    "#                 tf_td = tf / len(docs[document_id-1][1]) #wikipedia\n",
    "#                 tf_td = tf  #book\n",
    "            else:\n",
    "                tf_td = 0\n",
    "            scores[document_id] += tf_td * idf \n",
    "    \n",
    "    ranking = list(scores.items())\n",
    "    ranking.sort(key= lambda tup: tup[1], reverse=True)\n",
    "    return ranking\n",
    "    "
   ]
  },
  {
   "cell_type": "code",
   "execution_count": 24,
   "metadata": {},
   "outputs": [
    {
     "name": "stdout",
     "output_type": "stream",
     "text": [
      "TFIDF Results:\n",
      "Rank 0(1.1e+01): Rejuvenating Experimental Computer Science\\nThis r...\n",
      "Rank 1(1e+01): An Information Algebra - Phase I Report-Language\\n...\n",
      "Rank 2(8.2): ALGOL 60 Confidential\\nThe ALGOL 60 Report,* when ...\n",
      "Rank 3(6.7): Curriculum Recommendations for Graduate Profession...\n",
      "Rank 4(6.7): Control Procedures for Data Communication-An ASA P...\n"
     ]
    }
   ],
   "source": [
    "####\n",
    "test_tfidf = tfidf_search(\"report\", index_set=1)[:5]\n",
    "print(f\"TFIDF Results:\")\n",
    "print_results(test_tfidf)\n",
    "####"
   ]
  },
  {
   "cell_type": "markdown",
   "metadata": {},
   "source": [
    "*Answer the following questions*: \n",
    "- It is generally not advisable to use the naive version of tf-idf. Why?\n",
    "    - *TODO: Answer this!* <br>\n",
    "    In the case where a term occurs, say, 10 times in a document does not necessarily mean that a document is ten times more relevant compared to an document with an occurance of 1 time. The naive version (where the score scales linearly with term frequency) assumes this is the case.\n",
    "    <br><br>\n",
    "- Illustrate with an example why using a sublinear scaling for TF is preferable in some cases.  \n",
    "    - *TODO: Answer this!* <br>\n",
    "    In the same example as illustrated above we could modify the tf-term such that the total score scales with the log of the term frequency, such that a document, containing a certain word 10 times more than an other document gets a score of only approx. 2 times higher.<br><br>"
   ]
  },
  {
   "cell_type": "markdown",
   "metadata": {},
   "source": [
    "--- \n",
    "\n",
    "*Answer the following questions*: \n",
    "- An alternative way to compute a query<>document score is to vectorize both the query and document (where each dimension corresponds to a token), and compute a score. The score can be computed using a dot product between the query and the document vectors. Why is the cosine similary function a better choice, particularly in IR? \n",
    "    - *TODO: Answer this!* <br>\n",
    "    Take the example of a query size of 3, and 2 candidate documents A and B. Document A contains all words of the query at least once, up to a few times. Document B contains one word of the query, but many times. If we take the dot product to compute the scores, B might come at higher ranked than A, even though A contains all words of the query. We are therefore less interested in quantity, but rather in quality, or similarity of the query-document pair, so regardless of how ofter terms are present. The cosine method takes this into account, as it normalizes each vector before taking the dot product (equivalant: normalizes the result) and returns values between -1 and 1. Essentially the cosine method only measures the angle between two vectors. <br><br>\n",
    "    \n",
    "- What is the time complexity of a search if we are using the vector space method mentioned in the previous question? What is the time complexity if we're using an index (assume that it fits in memory)? Assume $N$ is the number of documents and $|q|$ is the length of a query. \n",
    "    - *TODO: Answer this!* <br>\n",
    "    In the worst case, if the query words are in all documents, you would have to consider each document for each query word, resulting in a complexity of $\\mathcal{O}( N\\cdot|q|)$. If you use the vector space method, you would just have to compare the query vector with all document vectors, resulting in a complexity of $\\mathcal{O}( N)$.\n",
    "    "
   ]
  },
  {
   "cell_type": "markdown",
   "metadata": {},
   "source": [
    "--- \n",
    "\n",
    "#### Query Likelihood Models\n",
    "\n",
    "In this section you will implement a simple query likelihood model. \n",
    "\n",
    "First, let use implement a naive version of a QL model, assuming a multinomial unigram language model (with a uniform prior over the documents). \n",
    "\n",
    "**Note:** Make sure you use the `get_index` function to retrieve the correct index, and call `preprocess_query` with the correct index!\n",
    "\n",
    "--- \n",
    "\n",
    "*Answer the following questions*: \n",
    "- Write down the formula for computing the query likelihood, assuming a multinomial unigram language model. \n",
    "    - *TODO: Answer this!* <br>\n",
    "        $$P(Q |D) = \\prod^n_{i=1}(q_i|D),$$ with $q_i$ query word $i$ and $D$ the document.\n",
    "        The max. likelihood estimate is given by:\n",
    "        $$P(q_i|D) = \\frac{\\text{tf}(q_i,D)}{|D|},$$ with tf$(q_i,D)$ the frequency of $q_i$ in $D$ and $|D|$ the number of tokens in $D$.\n",
    "    <br><br>\n",
    "    \n",
    "    \n",
    "- What problem does this naive method have? Suggest a simple way to fix it.\n",
    "    - *TODO: Answer this!* <br>\n",
    "     One issue is that if a word in a query does not occur a document, the likelihood immediately becomes zero, even though the document could still be relevant. This problem can be addressed by applying smoothing, where probability is \"distributed\" over unseen occurences. Another problem is that for long queries, the probability estimate approaches zero, as numbers smaller than one are multiplied. This can be fixed by taking the log of the probabilies, such that (log) probabilies are summed instead of multiplied.\n",
    "    <br><br>"
   ]
  },
  {
   "cell_type": "code",
   "execution_count": 25,
   "metadata": {},
   "outputs": [],
   "source": [
    "####\n",
    "def doc_lengths(documents):\n",
    "    doc_lengths = {doc_id:len(doc) for (doc_id, doc) in documents}\n",
    "    return doc_lengths\n",
    "\n",
    "doc_lengths_1 = doc_lengths(doc_repr_1)\n",
    "doc_lengths_2 = doc_lengths(doc_repr_2)\n",
    "\n",
    "def get_doc_lengths(index_set):\n",
    "    assert index_set in {1, 2}\n",
    "    return {\n",
    "        1: doc_lengths_1,\n",
    "        2: doc_lengths_2\n",
    "    }[index_set]\n",
    "####"
   ]
  },
  {
   "cell_type": "code",
   "execution_count": 26,
   "metadata": {},
   "outputs": [],
   "source": [
    "\n",
    "# TODO: Implement this! 15 points\n",
    "def naive_ql_search(query, index_set):\n",
    "    \"\"\"\n",
    "        Perform a search over all documents with the given query using a naive QL model. \n",
    "        Note #1: You have to use the `get_index` (and get_doc_lengths) function created in the previous cells\n",
    "        Input: \n",
    "            query - a (unprocessed) query\n",
    "            index_set - the index to use\n",
    "        Output: a list of (document_id, score), sorted in descending relevance to the given query \n",
    "    \"\"\"\n",
    "    log_prob = False #option to use log\n",
    "    \n",
    "    query = preprocess_query(query, index_set)\n",
    "    index = get_index(index_set)\n",
    "    doc_lengths = get_doc_lengths(index_set)\n",
    "    scores = defaultdict(lambda: 0.) if log_prob else defaultdict(lambda: 1.)\n",
    "    prob_zero = set()\n",
    "    \n",
    "    for token in query:\n",
    "        search_results = index[token]\n",
    "        not_seen = list(range(1,len(doc_lengths)+1))\n",
    "        for document_id, tf in search_results:\n",
    "            prob = tf/(doc_lengths[document_id])\n",
    "            if log_prob:\n",
    "                scores[document_id] += np.log(prob)\n",
    "            else:\n",
    "                scores[document_id] *= prob\n",
    "            not_seen.remove(document_id)\n",
    "        prob_zero.update(not_seen)\n",
    "    for document_id in prob_zero:\n",
    "        if log_prob:\n",
    "            scores[document_id] = -1e9 #something very low\n",
    "        else:\n",
    "            scores[document_id] = 0.\n",
    "    \n",
    "    ranking = list(scores.items())\n",
    "    ranking.sort(key= lambda tup: tup[1], reverse=True)\n",
    "    return ranking"
   ]
  },
  {
   "cell_type": "code",
   "execution_count": 27,
   "metadata": {},
   "outputs": [],
   "source": [
    "doc_lengths = get_doc_lengths(index_set=2)\n",
    "for i in range(1,len(doc_lengths)+1):\n",
    "    if doc_lengths[i] == 0:\n",
    "        print(\"BITHCH\")"
   ]
  },
  {
   "cell_type": "code",
   "execution_count": 28,
   "metadata": {},
   "outputs": [
    {
     "name": "stdout",
     "output_type": "stream",
     "text": [
      "NAIVE QL Results:\n",
      "Rank 0(0.2): A Report Writer For COBOL...\n",
      "Rank 1(0.2): A CRT Report Generating System...\n",
      "Rank 2(0.2): ALGOL Sub-Committee Report - Extensions...\n",
      "Rank 3(0.17): Supplement to the ALGOL 60 Report...\n",
      "Rank 4(0.14): Report on the Algorithmic Language FORTRAN II...\n"
     ]
    }
   ],
   "source": [
    "####\n",
    "test_naiveql = naive_ql_search(\"report\", index_set=1)[:5]\n",
    "print(f\"NAIVE QL Results:\")\n",
    "print_results(test_naiveql)\n",
    "####"
   ]
  },
  {
   "cell_type": "markdown",
   "metadata": {},
   "source": [
    "Now, let's implement a (slightly more) complex QL model. This model should 'fix' the issue with the previous method. If your model requires hyperparameters, set a reasonable value. "
   ]
  },
  {
   "cell_type": "code",
   "execution_count": 29,
   "metadata": {},
   "outputs": [],
   "source": [
    "# TODO: Implement this! 20 points\n",
    "def ql_search(query, index_set):\n",
    "    \"\"\"\n",
    "        Perform a search over all documents with the given query using a appropriate QL model. \n",
    "        Note #1: You have to use the `get_index` (and get_doc_lengths) function created in the previous cells\n",
    "        Note #2: You might have to create some variables beforehand and use them in this function\n",
    "        Input: \n",
    "            query - a (unprocessed) query\n",
    "            index_set - the index to use\n",
    "        Output: a list of (document_id, score), sorted in descending relevance to the given query \n",
    "    \"\"\"\n",
    "    log_prob = False #option for log use\n",
    "    lamb = .1\n",
    "    \n",
    "    query = preprocess_query(query, index_set)\n",
    "    index = get_index(index_set)\n",
    "    doc_lengths = get_doc_lengths(index_set)\n",
    "    scores = defaultdict(lambda: 0.) if log_prob else defaultdict(lambda: 1.)\n",
    "    cl = sum(doc_lengths.values()) #collection length\n",
    "    \n",
    "    for token in query: \n",
    "        search_results = index[token]\n",
    "        cf = sum([tf for _, tf in search_results]) #collection frequency\n",
    "        not_seen = list(range(1,len(doc_lengths)+1))\n",
    "        for document_id, tf in search_results:\n",
    "            prob = (1-lamb)*tf/doc_lengths[document_id] + lamb*cf/cl\n",
    "            if log_prob:\n",
    "                scores[document_id] += np.log(prob)\n",
    "            else:\n",
    "                scores[document_id] *= prob\n",
    "            not_seen.remove(document_id)\n",
    "        for document_id in not_seen:\n",
    "            if log_prob:\n",
    "                scores[document_id] += np.log(lamb*cf/cl)\n",
    "            else:\n",
    "                scores[document_id] *= lamb*cf/cl\n",
    "            \n",
    "    \n",
    "    ranking = list(scores.items())\n",
    "    ranking.sort(key= lambda tup: tup[1], reverse=True)\n",
    "    return ranking"
   ]
  },
  {
   "cell_type": "code",
   "execution_count": 30,
   "metadata": {},
   "outputs": [
    {
     "name": "stdout",
     "output_type": "stream",
     "text": [
      "Rank 0(0.18): A Report Writer For COBOL...\n",
      "Rank 1(0.18): A CRT Report Generating System...\n",
      "Rank 2(0.18): ALGOL Sub-Committee Report - Extensions...\n",
      "Rank 3(0.15): Supplement to the ALGOL 60 Report...\n",
      "Rank 4(0.13): Report on the Algorithmic Language FORTRAN II...\n",
      "\n",
      "Rank 0(3.6e-08): A Report Writer For COBOL...\n",
      "Rank 1(3.6e-08): A CRT Report Generating System...\n",
      "Rank 2(3.6e-08): ALGOL Sub-Committee Report - Extensions...\n",
      "Rank 3(5.8e-09): Supplement to the ALGOL 60 Report...\n",
      "Rank 4(1.2e-09): Report on the Algorithmic Language FORTRAN II...\n"
     ]
    }
   ],
   "source": [
    "#### Test the QL model\n",
    "test_ql_results = ql_search(\"report\", index_set=1)[:5]\n",
    "print_results(test_ql_results)\n",
    "print()\n",
    "test_ql_results_long = ql_search(\"report \" * 10, index_set=1)[:5]\n",
    "print_results(test_ql_results_long)\n",
    "####"
   ]
  },
  {
   "cell_type": "markdown",
   "metadata": {},
   "source": [
    "*Answer the following questions*: \n",
    "- What happens to the query likelihood for long queries? What is a simple fix for this issue?\n",
    "    - *TODO: Answer this!* <br>\n",
    "    The likelihoods become very small which can cause numerical instabilities for large queries due to the product over all query word probabilities (smaller than 1). Instead we can take the log likelihood, such that (log) probabilities are summed, instead of multiplied, which is more stable."
   ]
  },
  {
   "cell_type": "markdown",
   "metadata": {},
   "source": [
    "\n",
    "--- \n",
    "\n",
    "#### BM25\n",
    "\n",
    "In this section, we will implement the widely used and hard to beat BM25 scoring function. \n"
   ]
  },
  {
   "cell_type": "code",
   "execution_count": 31,
   "metadata": {},
   "outputs": [],
   "source": [
    "# TODO: Implement this! (20 points)\n",
    "def bm25_search(query, index_set):\n",
    "    \"\"\"\n",
    "        Perform a search over all documents with the given query using BM25. \n",
    "        Note #1: You have to use the `get_index` (and `get_doc_lengths`) function created in the previous cells\n",
    "        Note #2: You might have to create some variables beforehand and use them in this function\n",
    "        Input: \n",
    "            query - a (unprocessed) query\n",
    "            index_set - the index to use\n",
    "        Output: a list of (document_id, score), sorted in descending relevance to the given query \n",
    "    \"\"\"\n",
    "    k1 = 1.2\n",
    "    k2 = 100.\n",
    "    b  = 0.75\n",
    "    \n",
    "    query = preprocess_query(query, index_set)\n",
    "    index = get_index(index_set)\n",
    "    doc_lengths = get_doc_lengths(index_set)\n",
    "    scores = defaultdict(lambda: 0.)\n",
    "    dl_avg = np.mean(list(doc_lengths.values()))\n",
    "    N = len(doc_lengths)\n",
    "    \n",
    "    for token in query: \n",
    "        search_results = index[token]\n",
    "        qf = query.count(token) #query frequency\n",
    "        ni = len(search_results) #num docs containing the token\n",
    "        for document_id, tf in search_results:\n",
    "            dl = doc_lengths[document_id]\n",
    "            K = k1 * ((1-b) + b*dl/dl_avg)\n",
    "            scores[document_id] += np.log((N-ni+.5)/(ni+.5)) * (k1+1)*tf/(K+tf) * (k2+1)*qf/(k2+qf)\n",
    "    \n",
    "    ranking = list(scores.items())\n",
    "    ranking.sort(key= lambda tup: tup[1], reverse=True)\n",
    "    return ranking"
   ]
  },
  {
   "cell_type": "code",
   "execution_count": 32,
   "metadata": {},
   "outputs": [
    {
     "name": "stdout",
     "output_type": "stream",
     "text": [
      "Rank 0(6.2): A Report Writer For COBOL...\n",
      "Rank 1(6.2): A CRT Report Generating System...\n",
      "Rank 2(6.2): ALGOL Sub-Committee Report - Extensions...\n",
      "Rank 3(6.2): Supplement to the ALGOL 60 Report...\n",
      "Rank 4(6.1): Report on the Algorithmic Language FORTRAN II...\n"
     ]
    }
   ],
   "source": [
    "#### Test the BM25 model\n",
    "test_bm25_results = bm25_search(\"report\", index_set=1)[:5]\n",
    "print_results(test_bm25_results)\n",
    "####"
   ]
  },
  {
   "cell_type": "markdown",
   "metadata": {},
   "source": [
    "\n",
    "\n",
    "*Answer the following questions*: \n",
    "- Briefly explain how the BM25 model improves upon the tf-idf model.\n",
    "    - *TODO: Answer this!* <br>\n",
    "    It introduces document and query term weights that can be tuned which makes the model more flexible.\n",
    "\n",
    "    \n",
    "---"
   ]
  },
  {
   "cell_type": "code",
   "execution_count": 33,
   "metadata": {},
   "outputs": [],
   "source": [
    "#### Highlighter function\n",
    "# class for results\n",
    "ResultRow = namedtuple(\"ResultRow\", [\"doc_id\", \"snippet\", \"score\"])\n",
    "# doc_id -> doc\n",
    "docs_by_id = dict((d[0], d[1]) for d in docs)\n",
    "\n",
    "def highlight_text(document, query, tol=17):\n",
    "    import re\n",
    "    tokens = tokenize(query)\n",
    "    regex = \"|\".join(f\"(\\\\b{t}\\\\b)\" for t in tokens)\n",
    "    regex = re.compile(regex, flags=re.IGNORECASE)\n",
    "    output = \"\"\n",
    "    i = 0\n",
    "    for m in regex.finditer(document):\n",
    "        start_idx = max(0, m.start() - tol)\n",
    "        end_idx = min(len(document), m.end() + tol)\n",
    "        output += \"\".join([\"...\",\n",
    "                        document[start_idx:m.start()],\n",
    "                        \"<strong>\",\n",
    "                        document[m.start():m.end()],\n",
    "                        \"</strong>\",\n",
    "                        document[m.end():end_idx],\n",
    "                        \"...\"])\n",
    "    return output.replace(\"\\n\", \" \")\n",
    "\n",
    "\n",
    "def make_results(query, search_fn, index_set):\n",
    "    results = []\n",
    "    for doc_id, score in search_fn(query, index_set):\n",
    "        highlight = highlight_text(docs_by_id[doc_id], query)\n",
    "        if len(highlight.strip()) == 0:\n",
    "            highlight = docs_by_id[doc_id]\n",
    "        results.append(ResultRow(doc_id, highlight, score))\n",
    "    return results\n",
    "####"
   ]
  },
  {
   "cell_type": "markdown",
   "metadata": {},
   "source": [
    "---\n",
    "---\n",
    "\n",
    "The widget below allows you to play with the search functions you've written so far. This can be used, for example, to answer some of the theory questions"
   ]
  },
  {
   "cell_type": "code",
   "execution_count": 34,
   "metadata": {},
   "outputs": [
    {
     "data": {
      "application/vnd.jupyter.widget-view+json": {
       "model_id": "469b04cff63d4588b08252443920e9b7",
       "version_major": 2,
       "version_minor": 0
      },
      "text/plain": [
       "Text(value='', description='Search Bar')"
      ]
     },
     "metadata": {},
     "output_type": "display_data"
    }
   ],
   "source": [
    "# Set this to the function you want to test\n",
    "# this function should take in a query (string)\n",
    "# and return a sorted list of (doc_id, score) \n",
    "# with the most relevant document in the first position\n",
    "search_fn = bm25_search\n",
    "index_set = 1\n",
    "\n",
    "text = widgets.Text(description=\"Search Bar\", width=200)\n",
    "display(text)\n",
    "\n",
    "def handle_submit(sender):\n",
    "    print(f\"Searching for: '{sender.value}'\")\n",
    "    \n",
    "    results = make_results(sender.value, search_fn, index_set)\n",
    "    \n",
    "    # display only the top 5\n",
    "    results = results[:5]\n",
    "    \n",
    "    body = \"\"\n",
    "    for idx, r in enumerate(results):\n",
    "        body += f\"<li>Document #{r.doc_id}({r.score}): {r.snippet}</li>\"\n",
    "    display(HTML(f\"<ul>{body}</ul>\"))\n",
    "    \n",
    "\n",
    "text.on_submit(handle_submit)"
   ]
  },
  {
   "cell_type": "markdown",
   "metadata": {},
   "source": [
    "## Section 4: Offline Evaluation (45 points)\n",
    "\n",
    "Before we jump in and implement an algorithm for retrieval, we first have to learn how to evaluate such a system. In particular, we will work with offline evaluation metrics. These metrics are computed on a dataset with known relevance judgements.\n",
    "\n",
    "Implement the following evaluation metrics. \n",
    "\n",
    "1. Precision\n",
    "2. Recall\n",
    "3. Mean Average Precision\n",
    "4. Expected Reciprocal Rank\n",
    "\n",
    "---\n",
    "*Answer the following questions*: \n",
    "- What are the main limitations of an offline evaluation?\n",
    "    - *TODO: Answer this!* <br>\n",
    "    We can try to model users' interactions with the retrieved results, but the models will never be as good as evaluating directly on (actual) user interaction."
   ]
  },
  {
   "cell_type": "markdown",
   "metadata": {},
   "source": [
    "---\n",
    "\n",
    "Let's take a look at the `qrels.text` file, which contains the ground truth relevance scores. The relevance labels for CACM are binary - either 0 or 1. \n"
   ]
  },
  {
   "cell_type": "code",
   "execution_count": 35,
   "metadata": {},
   "outputs": [
    {
     "name": "stdout",
     "output_type": "stream",
     "text": [
      "01 1410  0 0\r\n",
      "01 1572  0 0\r\n",
      "01 1605  0 0\r\n",
      "01 2020  0 0\r\n",
      "01 2358  0 0\r\n",
      "02 2434  0 0\r\n",
      "02 2863  0 0\r\n",
      "02 3078  0 0\r\n",
      "03 1134  0 0\r\n",
      "03 1613  0 0\r\n"
     ]
    }
   ],
   "source": [
    "!head ./datasets/qrels.text"
   ]
  },
  {
   "cell_type": "markdown",
   "metadata": {},
   "source": [
    "The first column is the `query_id` and the second column is the `document_id`. You can safely ignore the 3rd and 4th columns. Write a function to read in the file: "
   ]
  },
  {
   "cell_type": "code",
   "execution_count": 36,
   "metadata": {},
   "outputs": [],
   "source": [
    "# TODO: Implement this!\n",
    "def read_qrels(root_folder = \"./datasets/\"):\n",
    "    \"\"\"\n",
    "        Reads the qrels.text file. \n",
    "        Output: A dictionary: query_id -> [list of relevant documents]\n",
    "    \"\"\"\n",
    "    file_path = os.path.join(root_folder, 'qrels.text')\n",
    "    data = np.loadtxt(file_path, dtype=int)\n",
    "    qrels = defaultdict(lambda: [])\n",
    "    for i, q in enumerate(data[:,0]):\n",
    "        qrels[q].append(data[i,1])\n",
    "    return qrels\n",
    "\n",
    "qrels = read_qrels()"
   ]
  },
  {
   "cell_type": "code",
   "execution_count": 37,
   "metadata": {},
   "outputs": [],
   "source": [
    "####\n",
    "assert len(qrels) == 52, \"There should be 52 queries with relevance judgements\"\n",
    "assert sum(len(j) for j in qrels.values()) == 796, \"There should be a total of 796 Relevance Judgements\"\n",
    "####"
   ]
  },
  {
   "cell_type": "markdown",
   "metadata": {},
   "source": [
    "Now, implement the metrics below. \n",
    "\n",
    "**Note:** For a given query `query_id`, you can assume that documents *not* in `qrels[query_id]` are not relevant to `query_id`. \n"
   ]
  },
  {
   "cell_type": "code",
   "execution_count": 38,
   "metadata": {},
   "outputs": [],
   "source": [
    "# TODO: Implement this! (10 points)\n",
    "def recall_k(results, relevant_docs, k):\n",
    "    \"\"\"\n",
    "        Compute Recall@K\n",
    "        Input: \n",
    "            results: A sorted list of 2-tuples (document_id, score), \n",
    "                    with the most relevant document in the first position\n",
    "            relevant_docs: A set of relevant documents. \n",
    "            k: the cut-off\n",
    "        Output: Recall@K\n",
    "    \"\"\"\n",
    "    TP = 0.\n",
    "    FN = len(relevant_docs)\n",
    "    for doc_id, score in results[:k]:\n",
    "        if doc_id in relevant_docs:\n",
    "            TP += 1\n",
    "            FN -= 1\n",
    "    return TP / (TP + FN)\n",
    "    \n",
    "    \n",
    "# TODO: Implement this! (10 points)\n",
    "def precision_k(results, relevant_docs, k):\n",
    "    \"\"\"\n",
    "        Compute Precision@K\n",
    "        Input: \n",
    "            results: A sorted list of 2-tuples (document_id, score), \n",
    "                    with the most relevant document in the first position\n",
    "            relevant_docs: A set of relevant documents. \n",
    "            k: the cut-off\n",
    "        Output: Precision@K\n",
    "    \"\"\"\n",
    "    TP, FP = 0., 0. \n",
    "    for doc_id, score in results[:k]:\n",
    "        if doc_id in relevant_docs:\n",
    "            TP += 1\n",
    "        else:\n",
    "            FP += 1\n",
    "    return TP / (TP + FP)\n",
    "\n",
    "# TODO: Implement this! (10 points)\n",
    "def average_precision(results, relevant_docs):\n",
    "    \"\"\"\n",
    "        Compute Average Precision (for a single query - the results are \n",
    "        averaged across queries to get MAP in the next few cells)\n",
    "        Hint: You can use the recall_k and precision_k functions here!\n",
    "        Input: \n",
    "            results: A sorted list of 2-tuples (document_id, score), with the most \n",
    "                    relevant document in the first position\n",
    "            relevant_docs: A set of relevant documents. \n",
    "        Output: Average Precision\n",
    "    \"\"\"\n",
    "    p_sum = 0.\n",
    "    N_relevant = len(relevant_docs)\n",
    "    for k, (doc_id, score) in enumerate(results):\n",
    "        if doc_id in relevant_docs:\n",
    "            p_sum += precision_k(results, relevant_docs, k+1)\n",
    "    return p_sum / N_relevant\n",
    "            \n",
    "\n",
    "\n",
    "# TODO: Implement this! (15 points)\n",
    "def err(results, relevant_docs):\n",
    "    \"\"\"\n",
    "        Compute the expected reciprocal rank.\n",
    "        Hint: https://dl.acm.org/doi/pdf/10.1145/1645953.1646033?download=true\n",
    "        Input: \n",
    "            results: A sorted list of 2-tuples (document_id, score), with the most \n",
    "                    relevant document in the first position\n",
    "            relevant_docs: A set of relevant documents. \n",
    "        Output: ERR\n",
    "    \"\"\"\n",
    "    g = [1 if doc_id in relevant_docs else 0 for doc_id, _ in results]\n",
    "    \n",
    "    ERR = 0.\n",
    "    p = 1.\n",
    "    for i in range(len(g)):\n",
    "        R = (2**g[i] - 1) / (2**np.max(g)+1)\n",
    "        ERR += p * R/(i+1)\n",
    "        p *= (1-R)\n",
    "    return ERR\n",
    "    \n",
    "####"
   ]
  },
  {
   "cell_type": "markdown",
   "metadata": {},
   "source": [
    "*Answer the following questions*: \n",
    "- What are the main drawbacks of precision & recall?\n",
    "    - *TODO: Answer this!* <br>\n",
    "    Given the precision and recall at a given cut-off $k$ we have no information about the top-$k$ ordering. For example, we do not (necessarily) know whether a relevant document is at the top rank for a $k>1$. If we want a model improve within the top-$k$ ranking, then precision & recall are not very informative metrics.<br><br>\n",
    "    \n",
    "- What problems with Precision@K does Average Precision solve? \n",
    "    - *TODO: Answer this!* <br>\n",
    "    Using average precision and the precision @ k, we can approximate the top-$k$ ranking. If we want a model improve within the top-$k$ ranking, average precision would therefore be a useful and infromative metric to use, since it could \"tell\" to model where there is room for improvement.<br><br>\n",
    "    \n",
    "- The CACM dataset has *binary* relevance judgements. However, a more suitable way of assigning judgements is to use graded relevance. Mention a metric which might be more suitable for a graded relevance, and breifly explain why. \n",
    "    - *TODO: Answer this!* <br>\n",
    "    ERR, since it models the likelihood that a user is satisfied at a given rank, and this measure is depent on the relevance of previous ranks. The higher the relevance at rank $k-1$, the lower the relevance at $k$, which is better taken into account for using graded relevances.<br><br>\n",
    "    \n",
    "- Consider a text processing step: stemming. What effect does this have on metrics? (Hint: Try changing the pre-processing config and try it out!)\n",
    "    - *TODO: Answer this!* <br>\n",
    "    In general less matches between words within queries and documents will be found, since un-stemmed words are more sparse than stemmed worse, which will probably result in more specific retrieved documents. But generally, the model will perform worse as it generalizes less.\n",
    "    <br><br>"
   ]
  },
  {
   "cell_type": "markdown",
   "metadata": {},
   "source": [
    "---\n",
    "\n",
    "Let's define some metrics@k using [partial functions](https://docs.python.org/3/library/functools.html#functools.partial)"
   ]
  },
  {
   "cell_type": "code",
   "execution_count": 39,
   "metadata": {},
   "outputs": [],
   "source": [
    "####\n",
    "recall_at_1 = partial(recall_k, k=1)\n",
    "recall_at_5 = partial(recall_k, k=5)\n",
    "recall_at_10 = partial(recall_k, k=10)\n",
    "precision_at_1 = partial(precision_k, k=1)\n",
    "precision_at_5 = partial(precision_k, k=5)\n",
    "precision_at_10 = partial(precision_k, k=10)\n",
    "####"
   ]
  },
  {
   "cell_type": "markdown",
   "metadata": {},
   "source": [
    "---\n",
    "\n",
    "The following function evaluates a `search_fn` using the `metric_fn`. Note that the final number is averaged over all the queries"
   ]
  },
  {
   "cell_type": "code",
   "execution_count": 40,
   "metadata": {},
   "outputs": [],
   "source": [
    "####\n",
    "def evaluate_search_fn(search_fn, metric_fn, index_set):\n",
    "    # build a dict query_id -> query \n",
    "    queries_by_id = dict((q[0], q[1]) for q in queries)\n",
    "    \n",
    "    metrics = np.zeros(len(qrels), dtype=np.float32)\n",
    "    for i, (query_id, relevant_docs) in enumerate(qrels.items()):\n",
    "        query = queries_by_id[query_id]\n",
    "        results = search_fn(query, index_set)\n",
    "        metrics[i] = metric_fn(results, relevant_docs)\n",
    "    \n",
    "    return metrics.mean()\n",
    "####"
   ]
  },
  {
   "cell_type": "code",
   "execution_count": 41,
   "metadata": {
    "scrolled": false
   },
   "outputs": [
    {
     "name": "stdout",
     "output_type": "stream",
     "text": [
      "Index: 1\n",
      "\tEvaluating Search Function: NaiveQL\n",
      "\t\tMetric: ERR: 0.08005364239215851\n",
      "\t\tMetric: MAP: 0.059895262122154236\n",
      "\t\tMetric: Recall@1: 0.009386923164129257\n",
      "\t\tMetric: Recall@5: 0.04151767119765282\n",
      "\t\tMetric: Recall@10: 0.05137680098414421\n",
      "\t\tMetric: Precision@1: 0.11538461595773697\n",
      "\t\tMetric: Precision@5: 0.08461538702249527\n",
      "\t\tMetric: Precision@10: 0.05961538106203079\n",
      "\n",
      "\tEvaluating Search Function: QL\n",
      "\t\tMetric: ERR: 0.15118302404880524\n",
      "\t\tMetric: MAP: 0.10483800619840622\n",
      "\t\tMetric: Recall@1: 0.025907915085554123\n",
      "\t\tMetric: Recall@5: 0.08426275849342346\n",
      "\t\tMetric: Recall@10: 0.10536401718854904\n",
      "\t\tMetric: Precision@1: 0.25\n",
      "\t\tMetric: Precision@5: 0.16923077404499054\n",
      "\t\tMetric: Precision@10: 0.13076923787593842\n",
      "\n",
      "\tEvaluating Search Function: BM25\n",
      "\t\tMetric: ERR: 0.2522321939468384\n",
      "\t\tMetric: MAP: 0.2148122489452362\n",
      "\t\tMetric: Recall@1: 0.09149813652038574\n",
      "\t\tMetric: Recall@5: 0.16555224359035492\n",
      "\t\tMetric: Recall@10: 0.23610612750053406\n",
      "\t\tMetric: Precision@1: 0.4615384638309479\n",
      "\t\tMetric: Precision@5: 0.2576923072338104\n",
      "\t\tMetric: Precision@10: 0.19807694852352142\n",
      "\n",
      "\tEvaluating Search Function: BOW\n",
      "\t\tMetric: ERR: 0.04189051687717438\n",
      "\t\tMetric: MAP: 0.03108605556190014\n",
      "\t\tMetric: Recall@1: 0.0027097901329398155\n",
      "\t\tMetric: Recall@5: 0.011454731225967407\n",
      "\t\tMetric: Recall@10: 0.037026289850473404\n",
      "\t\tMetric: Precision@1: 0.03846153989434242\n",
      "\t\tMetric: Precision@5: 0.030769232660531998\n",
      "\t\tMetric: Precision@10: 0.02500000223517418\n",
      "\n",
      "\tEvaluating Search Function: TF-IDF\n",
      "\t\tMetric: ERR: 0.22057360410690308\n",
      "\t\tMetric: MAP: 0.17763669788837433\n",
      "\t\tMetric: Recall@1: 0.069706492125988\n",
      "\t\tMetric: Recall@5: 0.14563435316085815\n",
      "\t\tMetric: Recall@10: 0.20669181644916534\n",
      "\t\tMetric: Precision@1: 0.38461539149284363\n",
      "\t\tMetric: Precision@5: 0.23076923191547394\n",
      "\t\tMetric: Precision@10: 0.17307694256305695\n",
      "\n",
      "Index: 2\n",
      "\tEvaluating Search Function: NaiveQL\n",
      "\t\tMetric: ERR: 0.10697952657938004\n",
      "\t\tMetric: MAP: 0.08243687450885773\n",
      "\t\tMetric: Recall@1: 0.012541775591671467\n",
      "\t\tMetric: Recall@5: 0.042447566986083984\n",
      "\t\tMetric: Recall@10: 0.05581022799015045\n",
      "\t\tMetric: Precision@1: 0.17307692766189575\n",
      "\t\tMetric: Precision@5: 0.11923076212406158\n",
      "\t\tMetric: Precision@10: 0.08846153318881989\n",
      "\n",
      "\tEvaluating Search Function: QL\n",
      "\t\tMetric: ERR: 0.21231958270072937\n",
      "\t\tMetric: MAP: 0.1544443666934967\n",
      "\t\tMetric: Recall@1: 0.03145396336913109\n",
      "\t\tMetric: Recall@5: 0.10561639815568924\n",
      "\t\tMetric: Recall@10: 0.15381023287773132\n",
      "\t\tMetric: Precision@1: 0.36538460850715637\n",
      "\t\tMetric: Precision@5: 0.26153847575187683\n",
      "\t\tMetric: Precision@10: 0.20961539447307587\n",
      "\n",
      "\tEvaluating Search Function: BM25\n",
      "\t\tMetric: ERR: 0.32111817598342896\n",
      "\t\tMetric: MAP: 0.29459893703460693\n",
      "\t\tMetric: Recall@1: 0.1147429496049881\n",
      "\t\tMetric: Recall@5: 0.2163083404302597\n",
      "\t\tMetric: Recall@10: 0.26449042558670044\n",
      "\t\tMetric: Precision@1: 0.5961538553237915\n",
      "\t\tMetric: Precision@5: 0.3769230842590332\n",
      "\t\tMetric: Precision@10: 0.27115383744239807\n",
      "\n",
      "\tEvaluating Search Function: BOW\n",
      "\t\tMetric: ERR: 0.0921073704957962\n",
      "\t\tMetric: MAP: 0.06189316511154175\n",
      "\t\tMetric: Recall@1: 0.01153674814850092\n",
      "\t\tMetric: Recall@5: 0.02982991561293602\n",
      "\t\tMetric: Recall@10: 0.07832340896129608\n",
      "\t\tMetric: Precision@1: 0.11538461595773697\n",
      "\t\tMetric: Precision@5: 0.08076923340559006\n",
      "\t\tMetric: Precision@10: 0.06730768829584122\n",
      "\n",
      "\tEvaluating Search Function: TF-IDF\n",
      "\t\tMetric: ERR: 0.30687350034713745\n",
      "\t\tMetric: MAP: 0.26271146535873413\n",
      "\t\tMetric: Recall@1: 0.09300371259450912\n",
      "\t\tMetric: Recall@5: 0.2133544236421585\n",
      "\t\tMetric: Recall@10: 0.2633441984653473\n",
      "\t\tMetric: Precision@1: 0.557692289352417\n",
      "\t\tMetric: Precision@5: 0.3423077166080475\n",
      "\t\tMetric: Precision@10: 0.2538461685180664\n",
      "\n"
     ]
    }
   ],
   "source": [
    "#BUGS fixed\n",
    "\n",
    "index_sets = {1, 2}\n",
    "\n",
    "list_of_metrics = [\n",
    "    (\"ERR\", err),\n",
    "    (\"MAP\", average_precision),\n",
    "    (\"Recall@1\",recall_at_1),\n",
    "    (\"Recall@5\", recall_at_5),\n",
    "    (\"Recall@10\", recall_at_10),\n",
    "    (\"Precision@1\", precision_at_1),\n",
    "    (\"Precision@5\", precision_at_5),\n",
    "    (\"Precision@10\", precision_at_10)]\n",
    "\n",
    "list_of_search_fns = [\n",
    "    (\"NaiveQL\", naive_ql_search),\n",
    "    (\"QL\", ql_search),\n",
    "    (\"BM25\", bm25_search),\n",
    "    (\"BOW\", bow_search),\n",
    "    (\"TF-IDF\", tfidf_search)\n",
    "]\n",
    "\n",
    "\n",
    "results = {}\n",
    "for index_set in index_sets:\n",
    "    results[index_set] = {}\n",
    "    print(f\"Index: {index_set}\")\n",
    "    for search_fn_name, search_fn in list_of_search_fns:\n",
    "        print(f\"\\tEvaluating Search Function: {search_fn_name}\")\n",
    "        results[index_set][search_fn_name] = {}\n",
    "        for metric_name, metric_fn in list_of_metrics:\n",
    "            r = evaluate_search_fn(search_fn, metric_fn, index_set).mean()\n",
    "            print(f\"\\t\\tMetric: {metric_name}: {r}\")\n",
    "            results[index_set][search_fn_name][metric_name] = r\n",
    "        print()"
   ]
  },
  {
   "cell_type": "markdown",
   "metadata": {},
   "source": [
    "## Section 5: Results and Analysis (20 points)\n",
    "\n",
    "The `results` dictionary contains the results for all search functions we implemented. Plot the results in bar charts, with clear labels:"
   ]
  },
  {
   "cell_type": "code",
   "execution_count": 42,
   "metadata": {
    "scrolled": false
   },
   "outputs": [
    {
     "name": "stdout",
     "output_type": "stream",
     "text": [
      "> PLOTS PER EVALUATION METHOD\n",
      "(y axes represent values corresponding to what is specified in the title)\n"
     ]
    },
    {
     "data": {
      "image/png": "[encoded data removed]",
      "text/plain": [
       "<Figure size 864x576 with 8 Axes>"
      ]
     },
     "metadata": {
      "needs_background": "light"
     },
     "output_type": "display_data"
    },
    {
     "name": "stdout",
     "output_type": "stream",
     "text": [
      "> PLOTS PER SEARCH METHOD\n",
      "(y axes represent values corresponding to what is specified by the x labels)\n"
     ]
    },
    {
     "data": {
      "image/png": "[encoded data removed]",
      "text/plain": [
       "<Figure size 864x504 with 5 Axes>"
      ]
     },
     "metadata": {
      "needs_background": "light"
     },
     "output_type": "display_data"
    }
   ],
   "source": [
    "# TODO: Implement this! (20 points)\n",
    "\n",
    "print(\"> PLOTS PER EVALUATION METHOD\")\n",
    "print(\"(y axes represent values corresponding to what is specified in the title)\")\n",
    "plt.figure(figsize=(12,8))\n",
    "xticks = [search_fn for search_fn,_ in list_of_search_fns]\n",
    "for plot_i, (eval_method,_) in enumerate(list_of_metrics):\n",
    "    if plot_i > 1:\n",
    "        plot_i+=1\n",
    "    plt.subplot(3,3,plot_i+1)\n",
    "    for index_set in index_sets:\n",
    "        if index_set == 1:\n",
    "            center = -0.1\n",
    "            color = \"blue\"\n",
    "        elif index_set == 2:\n",
    "            center = +0.1\n",
    "            color = \"darkorange\"\n",
    "        for i, (search_fn,_) in enumerate(list_of_search_fns):\n",
    "            label = None if i else f\"set {index_set}\"\n",
    "            plt.title(eval_method)\n",
    "            plt.bar(i+center,results[index_set][search_fn][eval_method], width=0.2, color=color,\n",
    "                    align=\"center\", label=label)\n",
    "            plt.ylim(0,.61)\n",
    "    plt.xticks(list(range(len(list_of_search_fns))), xticks)\n",
    "    plt.legend()\n",
    "    plt.tight_layout()\n",
    "plt.show()\n",
    "\n",
    "print(\"> PLOTS PER SEARCH METHOD\")\n",
    "print(\"(y axes represent values corresponding to what is specified by the x labels)\")\n",
    "plt.figure(figsize=(12,7))\n",
    "xticks = [eval_method for eval_method,_ in list_of_metrics]\n",
    "for plot_i, (search_fn,_) in enumerate(list_of_search_fns):\n",
    "    if plot_i > 1:\n",
    "        plot_i+=1\n",
    "    plt.subplot(2,3,plot_i+1)\n",
    "    for index_set in index_sets:\n",
    "        if index_set == 1:\n",
    "            center = -0.1\n",
    "            color = \"blue\"\n",
    "        elif index_set == 2:\n",
    "            center = +0.1\n",
    "            color = \"darkorange\"\n",
    "        for i, (eval_method,_) in enumerate(list_of_metrics):\n",
    "            label = None if i else f\"set {index_set}\"\n",
    "            plt.title(search_fn)\n",
    "            plt.bar(i+center,results[index_set][search_fn][eval_method], width=0.2, color=color,\n",
    "                    align=\"center\", label=label)\n",
    "            plt.ylim(0,.61)\n",
    "    plt.xticks(list(range(len(list_of_metrics))), xticks, rotation=45, horizontalalignment=\"right\")\n",
    "    plt.legend()\n",
    "    plt.tight_layout()\n",
    "plt.show()\n"
   ]
  },
  {
   "cell_type": "markdown",
   "metadata": {},
   "source": [
    "Write a summary of what you observe in the results.\n",
    "You summary should compare results across the 2 indices and the methods being used. State what you expected to see in the results, followed by either supporting evidence *or* justify why the results did not support your expectations.      \n",
    "*Hint*: You may build upon the answers from the previous sections. "
   ]
  },
  {
   "cell_type": "markdown",
   "metadata": {},
   "source": [
    "*TODO: Answer this!*\n",
    "\n"
   ]
  },
  {
   "cell_type": "markdown",
   "metadata": {},
   "source": [
    "### Summary###\n",
    "    \n",
    "The results clearly show that the methods perform worse on the first index than on the second. This is expected, since stemming and stopword removal was applied to index two and not to index one, which should increase the chance of matching relevant documents. Out of all the methods we tested, BM25 outperforms all others for all evaluation metrics, with TF-IDF coming a close second. This matches our expectations, since the former is an improved version of the latter. Furthermore, as expected, the query likelihood model with smoothing shows better results for all metrics than the naive one, since the former prevents the probabilities from becoming zero. Generally, every metric shows the same order of performance for all approaches, with BM25 the best and BOW the worst model every time. Only for recall@10 and index two does the BOW approach perform a little better than Naive QL. For precision@10, BM25 and TF-IDF show very similar results which could be explained by the problem that precision@k does not express the quality of the order of retrieved documents. The results of precision@1 and precision@5 indicate that BM25 puts more relevant documents in the beginning than TF-IDF. One can also see that the recall score rises for all approaches with higher k and that precision decreases with higher k, which is natural since for low k all relevant documents cannot have been found yet. Regarding precision, the models are likely more confident about their results for low k but grow more uncertain with larger k."
   ]
  },
  {
   "cell_type": "code",
   "execution_count": null,
   "metadata": {},
   "outputs": [],
   "source": []
  }
 ],
 "metadata": {
  "kernelspec": {
   "display_name": "Python 3",
   "language": "python",
   "name": "python3"
  },
  "language_info": {
   "codemirror_mode": {
    "name": "ipython",
    "version": 3
   },
   "file_extension": ".py",
   "mimetype": "text/x-python",
   "name": "python",
   "nbconvert_exporter": "python",
   "pygments_lexer": "ipython3",
   "version": "3.7.3"
  }
 },
 "nbformat": 4,
 "nbformat_minor": 4
}
