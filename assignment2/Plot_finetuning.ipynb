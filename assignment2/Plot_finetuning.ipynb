{
 "cells": [
  {
   "cell_type": "code",
   "execution_count": 63,
   "metadata": {},
   "outputs": [
    {
     "name": "stderr",
     "output_type": "stream",
     "text": [
      "[nltk_data] Downloading package stopwords to\n",
      "[nltk_data]     /home/choenes/nltk_data...\n",
      "[nltk_data]   Package stopwords is already up-to-date!\n",
      "[nltk_data] Downloading package punkt to /home/choenes/nltk_data...\n",
      "[nltk_data]   Package punkt is already up-to-date!\n"
     ]
    }
   ],
   "source": [
    "import json\n",
    "import numpy as np\n",
    "import matplotlib.pyplot as plt\n",
    "from collections import defaultdict\n",
    "from read_ap import read_qrels"
   ]
  },
  {
   "cell_type": "code",
   "execution_count": 5,
   "metadata": {},
   "outputs": [],
   "source": [
    "all_queries = list(range(1,150))\n",
    "test_queries = list(range(101,150))\n",
    "validation_queries = list(range(76,101))\n",
    "\n",
    "\n",
    "vec_models = ['word2vec', 'doc2vec']\n",
    "dimension_params = [200, 300, 400, 500]\n",
    "window_params = [5, 10, 15, 20]\n",
    "vocab_params = ['10k', '25k', '50k', '100k', '200k']\n",
    "\n",
    "topic_models = ['lsi_bow', 'lsi_tfidf', 'lda']\n",
    "topic_params = [10, 20, 50, 100, 500, 1000, 2000]"
   ]
  },
  {
   "cell_type": "code",
   "execution_count": 17,
   "metadata": {},
   "outputs": [],
   "source": [
    "def load_performance(json_path):\n",
    "    with open(json_path) as json_file:\n",
    "        data = json.load(json_file)\n",
    "    results = defaultdict(list)\n",
    "    aggregates = {}\n",
    "    for q in data:\n",
    "        results['all_map'].append(data[str(q)][\"map\"])\n",
    "        results['all_ndcg'].append(data[str(q)][\"ndcg\"])\n",
    "        if int(q) in validation_queries:\n",
    "            results['valid_map'].append(data[str(q)][\"map\"])\n",
    "            results['valid_ndcg'].append(data[str(q)][\"ndcg\"])\n",
    "        if int(q) in test_queries:\n",
    "            results['test_map'].append(data[str(q)][\"map\"])\n",
    "            results['test_ndcg'].append(data[str(q)][\"ndcg\"])\n",
    "    for k in results:\n",
    "        aggregates[k] = sum(results[k])/len(results[k])\n",
    "    return aggregates\n",
    "        "
   ]
  },
  {
   "cell_type": "code",
   "execution_count": 54,
   "metadata": {},
   "outputs": [
    {
     "name": "stdout",
     "output_type": "stream",
     "text": [
      "lsi_bow\n",
      "\t - all_map ---> 0.08339082632172119\n",
      "\t - all_ndcg ---> 0.4560114300809156\n",
      "\t - test_map ---> 0.05985849422643051\n",
      "\t - test_ndcg ---> 0.4315587079506092\n",
      "\t - valid_map ---> 0.05671283986032173\n",
      "\t - valid_ndcg ---> 0.42209989759429545\n"
     ]
    }
   ],
   "source": [
    "performance_dict_default = {}\n",
    "topic_models= ['lsi_bow'] # overshadows real value (comment out if json ready)\n",
    "for model in topic_models:\n",
    "    json_name = \"./\"+ model + \"500.json\"\n",
    "    aggregates = load_performance(json_name)\n",
    "    performance_dict_default[model] = aggregates\n",
    "    print(model)\n",
    "    for k in aggregates:\n",
    "        print(f\"\\t - {k} ---> {aggregates[k]}\")"
   ]
  },
  {
   "cell_type": "code",
   "execution_count": 49,
   "metadata": {},
   "outputs": [],
   "source": [
    "def plot_finetuning(model, configs, x_labels):\n",
    "    fig, axs = plt.subplots(1, len(configs))\n",
    "    if len(configs) == 1:\n",
    "        axs = [axs]\n",
    "    for col, params in enumerate(configs):\n",
    "        all_y = []\n",
    "        test_y = []\n",
    "        for value in params:\n",
    "            json_name = \"./\"+ model + str(value) + \".json\"\n",
    "            aggregates = load_performance(json_name)\n",
    "            all_y.append(aggregates['all_map'])\n",
    "            test_y.append(aggregates['test_map'])\n",
    "        axs[col].plot(params, all_y, label='all queries')\n",
    "        axs[col].plot(params, test_y, label='test queries')\n",
    "        axs[col].set_ylabel('MAP', fontsize=16)\n",
    "        axs[col].set_xlabel(x_labels[col], fontsize=16)\n",
    "        axs[col].tick_params(axis='both', which='major', labelsize=13)\n",
    "        axs[col].legend()        \n",
    "        \n",
    "    fig.tight_layout()\n",
    "    plt.show()"
   ]
  },
  {
   "cell_type": "code",
   "execution_count": 50,
   "metadata": {},
   "outputs": [
    {
     "data": {
      "image/png": "[encoded data removed]",
      "text/plain": [
       "<Figure size 432x288 with 1 Axes>"
      ]
     },
     "metadata": {
      "needs_background": "light"
     },
     "output_type": "display_data"
    }
   ],
   "source": [
    "plot_finetuning('lsi_bow', [[10,50,100,500]], [\"Number of Topics (k)\"])"
   ]
  },
  {
   "cell_type": "code",
   "execution_count": 61,
   "metadata": {},
   "outputs": [],
   "source": [
    "def get_top_flop_queries(json_path, num_top_flop=1):\n",
    "    with open(json_path) as json_file:\n",
    "        data = json.load(json_file)\n",
    "    data = [(k, v['map']) for k, v in data.items()]\n",
    "    data.sort(key= lambda t: -t[1])\n",
    "    return data[:num_top_flop], data[-num_top_flop:]"
   ]
  },
  {
   "cell_type": "code",
   "execution_count": 66,
   "metadata": {},
   "outputs": [
    {
     "name": "stdout",
     "output_type": "stream",
     "text": [
      "top:  [('173', 0.6351959849591148), ('99', 0.5254141189760588), ('164', 0.49992797517041465), ('154', 0.4968736706987605), ('163', 0.48821741120233253)]\n",
      "flop:  [('149', 0.0007704913443466533), ('117', 0.000770153844490891), ('97', 0.0004766997900708516), ('105', 0.0004357445714320897), ('112', 0.0003655504544701231)]\n"
     ]
    }
   ],
   "source": [
    "top, flop = get_top_flop_queries(\"lsi_bow500.json\", 5)\n",
    "print(\"top: \", top)\n",
    "print(\"flop: \", flop)"
   ]
  },
  {
   "cell_type": "code",
   "execution_count": 67,
   "metadata": {},
   "outputs": [
    {
     "name": "stdout",
     "output_type": "stream",
     "text": [
      "Top queries:\n",
      "\t -   Smoking Bans \n",
      "\n",
      "\t -   Iran-Contra Affair \n",
      "\n",
      "\t -   Generic Drugs - Illegal Activities by Manufacturers \n",
      "\n",
      "\t -   Oil Spills \n",
      "\n",
      "\t -   Vietnam Veterans and Agent Orange \n",
      "\n",
      "Flop queries:\n",
      "\t -   Industrial Espionage \n",
      "\n",
      "\t -   Capacity of the U.S. Cellular Telephone Network \n",
      "\n",
      "\t -   Fiber Optics Applications \n",
      "\n",
      "\t -   \"Black Monday\" \n",
      "\n",
      "\t -   Funding Biotechnology \n",
      "\n"
     ]
    }
   ],
   "source": [
    "qrels, queries = read_qrels()\n",
    "print(\"Top queries:\")\n",
    "for qid, Map in top:\n",
    "    print(\"\\t - \"+queries[qid])\n",
    "print(\"Flop queries:\")\n",
    "for qid, Map in flop:\n",
    "    print(\"\\t - \"+queries[qid])"
   ]
  },
  {
   "cell_type": "code",
   "execution_count": 73,
   "metadata": {},
   "outputs": [],
   "source": [
    "def map_variance_over_models(json_files, top_num=5):\n",
    "    query_variances = {}\n",
    "    data = {}\n",
    "    map_per_query = defaultdict(list)\n",
    "    for i, file in enumerate(json_files):\n",
    "        with open(file) as json_file:\n",
    "            data[i] = json.load(json_file)\n",
    "    for query in data[0]:\n",
    "        for model in range(len(json_files)):\n",
    "            map_per_query[query].append(data[model][query]['map'])\n",
    "    for k in map_per_query:\n",
    "        query_variances[k] = np.var(map_per_query[k])\n",
    "    query_variances = [(k, v) for k, v in query_variances.items()]\n",
    "    query_variances.sort(key= lambda t: -t[1])\n",
    "    return query_variances[:top_num]"
   ]
  },
  {
   "cell_type": "code",
   "execution_count": 74,
   "metadata": {},
   "outputs": [
    {
     "name": "stdout",
     "output_type": "stream",
     "text": [
      "[('173', 0.0720320182686526), ('163', 0.04405405231815694), ('154', 0.0377662024235386), ('70', 0.034047522203259836), ('164', 0.03337039087418893)]\n"
     ]
    }
   ],
   "source": [
    "top_var = map_variance_over_models([\"lsi_bow10.json\", \"lsi_bow50.json\", \"lsi_bow100.json\", \"lsi_bow500.json\"], top_num=5)\n",
    "print(top_var)"
   ]
  },
  {
   "cell_type": "code",
   "execution_count": 75,
   "metadata": {},
   "outputs": [
    {
     "name": "stdout",
     "output_type": "stream",
     "text": [
      "Highest variance:\n",
      "\t -   Smoking Bans \n",
      "\n",
      "\t -   Vietnam Veterans and Agent Orange \n",
      "\n",
      "\t -   Oil Spills \n",
      "\n",
      "\t -   Surrogate Motherhood \n",
      "\n",
      "\t -   Generic Drugs - Illegal Activities by Manufacturers \n",
      "\n"
     ]
    }
   ],
   "source": [
    "print(\"Highest variance:\")\n",
    "for qid, Map in top_var:\n",
    "    print(\"\\t - \"+queries[qid])"
   ]
  },
  {
   "cell_type": "code",
   "execution_count": null,
   "metadata": {},
   "outputs": [],
   "source": []
  }
 ],
 "metadata": {
  "kernelspec": {
   "display_name": "Python 3",
   "language": "python",
   "name": "python3"
  },
  "language_info": {
   "codemirror_mode": {
    "name": "ipython",
    "version": 3
   },
   "file_extension": ".py",
   "mimetype": "text/x-python",
   "name": "python",
   "nbconvert_exporter": "python",
   "pygments_lexer": "ipython3",
   "version": "3.7.6"
  }
 },
 "nbformat": 4,
 "nbformat_minor": 4
}
